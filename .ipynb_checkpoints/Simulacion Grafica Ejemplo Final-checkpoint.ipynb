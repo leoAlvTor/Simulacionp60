{
 "cells": [
  {
   "cell_type": "code",
   "execution_count": 28,
   "metadata": {
    "pycharm": {
     "name": "#%%\n"
    }
   },
   "outputs": [],
   "source": [
    "import collections\n",
    "import random\n",
    "import simpy"
   ]
  },
  {
   "cell_type": "code",
   "execution_count": 29,
   "metadata": {
    "pycharm": {
     "name": "#%%\n"
    }
   },
   "outputs": [],
   "source": [
    "NUM_BOLETO = 120\n",
    "TIEMPO_SIMULACION = 120"
   ]
  },
  {
   "cell_type": "code",
   "execution_count": 30,
   "metadata": {
    "pycharm": {
     "name": "#%%\n"
    }
   },
   "outputs": [],
   "source": [
    "class Cliente:\n",
    "\n",
    "  renegado: bool = False\n",
    "  pelicula: str = 'NA'\n",
    "  cantidad_boletos: int = 0\n",
    "\n",
    "  def __init__(self, genero):\n",
    "    self.genero = genero\n",
    "    pass"
   ]
  },
  {
   "cell_type": "code",
   "execution_count": 31,
   "metadata": {
    "pycharm": {
     "name": "#%%\n"
    }
   },
   "outputs": [
    {
     "name": "stdout",
     "output_type": "stream",
     "text": [
      "Teatro Carlos Crespi - UPS\n",
      "Pelicula: Conjuro 3 se agoto en el tiempo 103.0 despues de salir a la venta\n",
      "Numero de personas que salieron de la fila/renegados 28\n",
      "Pelicula: Rapidos y Furiosos 10 se agoto en el tiempo 91.0 despues de salir a la venta\n",
      "Numero de personas que salieron de la fila/renegados 30\n",
      "Pelicula: Pulp Fiction se agoto en el tiempo 106.0 despues de salir a la venta\n",
      "Numero de personas que salieron de la fila/renegados 27\n"
     ]
    }
   ],
   "source": [
    "def ventaBoletos(env, num_boletos, pelicula, teatro):\n",
    "  with teatro.contador.request() as turno:\n",
    "    resultado = yield turno | teatro.sold_out[pelicula]\n",
    "    if turno not in resultado:\n",
    "      teatro.num_renegados[pelicula] += 1\n",
    "      return\n",
    "    if teatro.num_boletos[pelicula] < num_boletos:\n",
    "      yield env.timeout(0.5)\n",
    "      return\n",
    "    teatro.num_boletos[pelicula] -= num_boletos\n",
    "    if teatro.num_boletos[pelicula] < 2:\n",
    "      teatro.sold_out[pelicula].succeed()\n",
    "      teatro.tiempo_agotado[pelicula] = env.now\n",
    "      teatro.num_boletos[pelicula] = 0\n",
    "    yield env.timeout(1)\n",
    "\n",
    "\n",
    "def llegadaClientes(env, teatro):\n",
    "  while True:\n",
    "    yield env.timeout(random.expovariate(1/0.5))\n",
    "    pelicula = random.choice(teatro.peliculas)\n",
    "    num_boletos = random.randint(1, 6)\n",
    "    if teatro.num_boletos[pelicula]:\n",
    "      env.process(ventaBoletos(env, num_boletos, pelicula, teatro))\n",
    "\n",
    "\n",
    "Teatro = collections.namedtuple('Teatro', 'contador, peliculas, num_boletos, sold_out, tiempo_agotado, num_renegados')\n",
    "\n",
    "print('Teatro Carlos Crespi - UPS')\n",
    "env = simpy.Environment()\n",
    "\n",
    "contador = simpy.Resource(env,capacity=1)\n",
    "peliculas = ['Conjuro 3', 'Rapidos y Furiosos 10', 'Pulp Fiction']\n",
    "num_boletos = {pelicula: NUM_BOLETO for pelicula in peliculas}\n",
    "sold_out = {pelicula: env.event() for pelicula in peliculas}\n",
    "tiempo_agotado = {pelicula: None for pelicula in peliculas}\n",
    "num_renegados = {pelicula: 0 for pelicula in peliculas}\n",
    "\n",
    "teatro = Teatro(contador, peliculas, num_boletos, sold_out, tiempo_agotado, num_renegados)\n",
    "env.process(llegadaClientes(env, teatro))\n",
    "env.run(until=TIEMPO_SIMULACION)\n",
    "\n",
    "# Analisis y resultados\n",
    "for pelicula in peliculas:\n",
    "  if teatro.sold_out[pelicula]:\n",
    "    print('Pelicula: %s se agoto en el tiempo %.1f despues de salir a la venta' %(pelicula, teatro.tiempo_agotado[pelicula]))\n",
    "    print('Numero de personas que salieron de la fila/renegados %s' %teatro.num_renegados[pelicula])"
   ]
  },
  {
   "cell_type": "code",
   "execution_count": 31,
   "metadata": {
    "pycharm": {
     "name": "#%%\n"
    }
   },
   "outputs": [],
   "source": []
  }
 ],
 "metadata": {
  "kernelspec": {
   "display_name": "Python 3 (ipykernel)",
   "language": "python",
   "name": "python3"
  },
  "language_info": {
   "codemirror_mode": {
    "name": "ipython",
    "version": 3
   },
   "file_extension": ".py",
   "mimetype": "text/x-python",
   "name": "python",
   "nbconvert_exporter": "python",
   "pygments_lexer": "ipython3",
   "version": "3.10.5"
  }
 },
 "nbformat": 4,
 "nbformat_minor": 1
}
