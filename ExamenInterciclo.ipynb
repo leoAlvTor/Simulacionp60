{
 "cells": [
  {
   "cell_type": "code",
   "execution_count": 2,
   "metadata": {
    "collapsed": true
   },
   "outputs": [],
   "source": [
    "#Importacion de librerias\n",
    "import matplotlib.pyplot as mp\n",
    "import matplotlib.pyplot as plt\n",
    "\n",
    "# Importanmos las librerias\n",
    "import random\n",
    "import matplotlib.pyplot as plt\n",
    "import numpy as np\n",
    "from itertools import zip_longest\n",
    "from collections import Counter"
   ]
  },
  {
   "cell_type": "code",
   "execution_count": 3,
   "outputs": [],
   "source": [
    "#METODOS DE GENERACION\n",
    "def CuadradosMe(semilla,D,iteraciones):\n",
    "    xo = semilla\n",
    "    digitos = D\n",
    "    iteraciones = iteraciones\n",
    "    listrn=[]\n",
    "    xn = xo\n",
    "\n",
    "    for i in range(iteraciones):\n",
    "        xnn = xn**2\n",
    "        txnn = str(xnn).zfill(8)\n",
    "        tam = len(txnn)\n",
    "        ui = int(txnn[int(tam/2-digitos/2):int(tam/2+digitos/2)])\n",
    "        rn = ui / (int('9'*digitos)+1)\n",
    "        listrn.append(rn)\n",
    "\n",
    "        xn = ui\n",
    "    return listrn\n",
    "\n",
    "def CongruenciaLin(semilla,a,b,m,iteraciones):\n",
    "    xo = semilla\n",
    "    a = a\n",
    "    b = b\n",
    "    m = m\n",
    "    listUi=[]\n",
    "    iteraciones = iteraciones\n",
    "    xn = xo\n",
    "\n",
    "    for i in range(iteraciones):\n",
    "        xnn = (a*xn+b) % m\n",
    "        ui = xnn/m\n",
    "        listUi.append(ui)\n",
    "\n",
    "        xn = xnn\n",
    "    return listUi\n",
    "\n",
    "def random_python(semilla,iteraciones):\n",
    "  numeros = []\n",
    "  random.seed(semilla)\n",
    "  [numeros.append(random.random())for i in range(iteraciones)]\n",
    "  return numeros\n",
    "\n",
    "\n",
    "def  tauswoth(l, r, q):\n",
    "  iteraciones= 100\n",
    "  ar=(2**q)-1\n",
    "  secuencia = [1 for i in range(0,q)]\n",
    "  for i in range(q,l*iteraciones):\n",
    "    secuencia.append(0 if secuencia[i-r]==secuencia[i-q] else 1)\n",
    "  valor_binarios=[64,32,16,8,4,2,1]\n",
    "\n",
    "  binarios=[secuencia[i:i + l] for i in range(0, len(secuencia), l)]\n",
    "  decimales=[]\n",
    "  for i in range(len(binarios)):\n",
    "    dec=[]\n",
    "    for j in range(len(binarios[i])):\n",
    "      dec.append(binarios[i][j]*valor_binarios[j])\n",
    "    decimales.append(sum(dec))\n",
    "  num_pseudoaleatorio=[(decimales[i]/2**l) for i in range(len(decimales))]\n",
    "  return num_pseudoaleatorio\n",
    "\n"
   ],
   "metadata": {
    "collapsed": false,
    "pycharm": {
     "name": "#%%\n"
    }
   }
  },
  {
   "cell_type": "code",
   "execution_count": 4,
   "outputs": [],
   "source": [
    "numerosRP=random_python(1032022,100)\n",
    "numerosCM=CuadradosMe(74731897457,7,100)\n",
    "numerosCL=CongruenciaLin(7, 74731897457, 37747318974, 19, 100)\n",
    "numerosTa=tauswoth(7, 7, 15)"
   ],
   "metadata": {
    "collapsed": false,
    "pycharm": {
     "name": "#%%\n"
    }
   }
  },
  {
   "cell_type": "code",
   "execution_count": 5,
   "outputs": [],
   "source": [
    "categoria_probabilidad = {\n",
    "    'TODO_DIFERENTE': 0.3024,\n",
    "    'DOS_PAR': 0.1080,\n",
    "    'TERCIA_PAR': 0.0090,\n",
    "    'PAR': 0.5040,\n",
    "    'TERCIA': 0.0720,\n",
    "    'POKER': 0.0045,\n",
    "    'QUINTILLA': 0.0001\n",
    "}"
   ],
   "metadata": {
    "collapsed": false,
    "pycharm": {
     "name": "#%%\n"
    }
   }
  },
  {
   "cell_type": "code",
   "execution_count": 56,
   "outputs": [
    {
     "name": "stdout",
     "output_type": "stream",
     "text": [
      "Counter({'PAR': 52, 'TODO_DIFERENTE': 32, 'TERCIA': 9, 'DOS_PAR': 7, 'TERCIA_PAR': 0, 'POKER': 0, 'QUINTILLA': 0})\n",
      "3.3002645502645507\n",
      "Se acepta el conjunto con el metodo: Python Random\n",
      "Counter({'PAR': 57, 'TODO_DIFERENTE': 23, 'DOS_PAR': 14, 'TERCIA': 3, 'POKER': 2, 'TERCIA_PAR': 1, 'QUINTILLA': 0})\n",
      "11.355820105820106\n",
      "Se acepta el conjunto con el metodo: Cuadrados Medios\n",
      "Counter({'TODO_DIFERENTE': 100, 'DOS_PAR': 0, 'TERCIA_PAR': 0, 'PAR': 0, 'TERCIA': 0, 'POKER': 0, 'QUINTILLA': 0})\n",
      "230.68783068783063\n",
      "Se rechaza el conjunto con el metodo: Congruencia Lineal\n",
      "Counter({'TODO_DIFERENTE': 53, 'PAR': 41, 'DOS_PAR': 4, 'TERCIA': 2, 'TERCIA_PAR': 0, 'POKER': 0, 'QUINTILLA': 0})\n",
      "28.28042328042328\n",
      "Se rechaza el conjunto con el metodo: Tausworth\n"
     ]
    }
   ],
   "source": [
    "def validacion_poker(valores, metodo):\n",
    "    valores = [str(x)[2:7] for x in valores]\n",
    "    cantidad_valores = len(valores)\n",
    "\n",
    "    valores_contabilizados = []\n",
    "    for x in valores:\n",
    "        counter_a = dict(Counter(str(x)))\n",
    "\n",
    "        flag = all(element == 1 for element in counter_a.values())\n",
    "\n",
    "        counter = dict((k, v) for k, v in counter_a.items() if v > 1)\n",
    "        if not counter or flag:\n",
    "            valores_contabilizados.append('TODO_DIFERENTE')\n",
    "        elif len(counter.values()) > 1 :\n",
    "            if list(counter.values())[0] == 2 and list(counter.values())[1] == 2:\n",
    "                valores_contabilizados.append('DOS_PAR')\n",
    "            elif (list(counter.values())[0] == 2 and list(counter.values())[1] == 3) or (list(counter.values())[0] == 3 and list(counter.values())[1] == 2):\n",
    "                valores_contabilizados.append('TERCIA_PAR')\n",
    "        elif list(counter.values())[0] == 2:\n",
    "            valores_contabilizados.append('PAR')\n",
    "        elif list(counter.values())[0] == 3:\n",
    "            valores_contabilizados.append('TERCIA')\n",
    "        elif list(counter.values())[0] == 4:\n",
    "            valores_contabilizados.append('POKER')\n",
    "        elif list(counter.values())[0] == 5:\n",
    "            valores_contabilizados.append('QUINTILLA')\n",
    "\n",
    "    conteo_categorias = Counter(valores_contabilizados)\n",
    "    if not conteo_categorias.get('TODO_DIFERENTE'):\n",
    "        conteo_categorias['TODO_DIFERENTE'] = 0\n",
    "    if not conteo_categorias.get('DOS_PAR'):\n",
    "        conteo_categorias['DOS_PAR'] = 0\n",
    "    if not conteo_categorias.get('TERCIA_PAR'):\n",
    "        conteo_categorias['TERCIA_PAR'] = 0\n",
    "    if not conteo_categorias.get('PAR'):\n",
    "        conteo_categorias['PAR'] = 0\n",
    "    if not conteo_categorias.get('TERCIA'):\n",
    "        conteo_categorias['TERCIA'] = 0\n",
    "    if not conteo_categorias.get('POKER'):\n",
    "        conteo_categorias['POKER'] = 0\n",
    "    if not conteo_categorias.get('QUINTILLA'):\n",
    "        conteo_categorias['QUINTILLA'] = 0\n",
    "\n",
    "    valores_a_sumar = []\n",
    "    print(conteo_categorias)\n",
    "    for x, y in conteo_categorias.items():\n",
    "        ei = categoria_probabilidad.get(x)*cantidad_valores\n",
    "        valores_a_sumar.append(((ei-y)**2)/ei)\n",
    "\n",
    "    sumatoria = sum(valores_a_sumar)\n",
    "    print(sumatoria)\n",
    "    if sumatoria > 12.59:\n",
    "        print('Se rechaza el conjunto con el metodo:', metodo)\n",
    "    else:\n",
    "        print('Se acepta el conjunto con el metodo:', metodo)\n",
    "\n",
    "validacion_poker(numerosRP, 'Python Random')\n",
    "validacion_poker(numerosCM, 'Cuadrados Medios')\n",
    "validacion_poker(numerosCL, 'Congruencia Lineal')\n",
    "validacion_poker(numerosTa, 'Tausworth')"
   ],
   "metadata": {
    "collapsed": false,
    "pycharm": {
     "name": "#%%\n"
    }
   }
  },
  {
   "cell_type": "code",
   "execution_count": 6,
   "outputs": [],
   "source": [
    "# 2.3\n",
    "# 28,28"
   ],
   "metadata": {
    "collapsed": false,
    "pycharm": {
     "name": "#%%\n"
    }
   }
  }
 ],
 "metadata": {
  "kernelspec": {
   "display_name": "Python 3",
   "language": "python",
   "name": "python3"
  },
  "language_info": {
   "codemirror_mode": {
    "name": "ipython",
    "version": 2
   },
   "file_extension": ".py",
   "mimetype": "text/x-python",
   "name": "python",
   "nbconvert_exporter": "python",
   "pygments_lexer": "ipython2",
   "version": "2.7.6"
  }
 },
 "nbformat": 4,
 "nbformat_minor": 0
}