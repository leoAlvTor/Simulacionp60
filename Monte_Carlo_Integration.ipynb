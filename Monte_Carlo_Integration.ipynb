{
 "nbformat": 4,
 "nbformat_minor": 0,
 "metadata": {
  "colab": {
   "name": "Monte Carlo Integration.ipynb",
   "provenance": []
  },
  "kernelspec": {
   "name": "python3",
   "display_name": "Python 3"
  },
  "language_info": {
   "name": "python"
  }
 },
 "cells": [
  {
   "cell_type": "code",
   "execution_count": 2,
   "metadata": {
    "colab": {
     "base_uri": "https://localhost:8080/"
    },
    "id": "XLzEqEhM4C6r",
    "outputId": "1c215814-423a-41fc-d8be-b7971ea45d7b"
   },
   "outputs": [
    {
     "name": "stdout",
     "output_type": "stream",
     "text": [
      "Monte Carlo Result: 4606.318795277529\n",
      "Scipy result: 4608.839451318119\n"
     ]
    }
   ],
   "source": [
    "import random\n",
    "import numpy as np\n",
    "from math import sin\n",
    "from scipy.integrate import quad\n",
    "\n",
    "\n",
    "class MonteCarloIntegration():\n",
    "\n",
    "  def __init__(self, a, b, N):\n",
    "    self.a = a\n",
    "    self.b = b\n",
    "    self.N = N\n",
    "    self.integral = 0\n",
    "    self.ar = list(np.zeros(N))\n",
    "    [self.ar.append(random.uniform(a, b)) for i in range(len(self.ar))]\n",
    "\n",
    "  def _math_function(self, x):\n",
    "    return eval('x**2 + 2*sin(x) - x')\n",
    "\n",
    "  def sum_functions(self):\n",
    "    for i in self.ar:\n",
    "      self.integral += self._math_function(i)\n",
    "  \n",
    "  def get_result(self):\n",
    "    self.ans = (self.b-self.a)/float(self.N)*self.integral\n",
    "    print('Monte Carlo Result:', self.ans)\n",
    "\n",
    "  def get_result_scipy(self):\n",
    "    f= lambda x:x**2 + 2*sin(x) -x\n",
    "    result = quad(f, self.a, self.b)\n",
    "    print('Scipy result:', result[0])\n",
    "\n",
    "monteCarlo = MonteCarloIntegration(10, 25, 7500)\n",
    "monteCarlo.sum_functions()\n",
    "monteCarlo.get_result()\n",
    "monteCarlo.get_result_scipy()"
   ]
  }
 ]
}