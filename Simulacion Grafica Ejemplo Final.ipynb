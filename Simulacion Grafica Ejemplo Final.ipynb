{
 "cells": [
  {
   "cell_type": "code",
   "execution_count": 33,
   "metadata": {
    "pycharm": {
     "name": "#%%\n"
    }
   },
   "outputs": [],
   "source": [
    "import collections\n",
    "import random\n",
    "import sys\n",
    "import time\n",
    "\n",
    "import simpy\n",
    "from faker import Faker"
   ]
  },
  {
   "cell_type": "code",
   "execution_count": 34,
   "metadata": {
    "pycharm": {
     "name": "#%%\n"
    }
   },
   "outputs": [],
   "source": [
    "NUM_BOLETO = 120\n",
    "TIEMPO_SIMULACION = 120"
   ]
  },
  {
   "cell_type": "code",
   "execution_count": 35,
   "metadata": {
    "pycharm": {
     "name": "#%%\n"
    }
   },
   "outputs": [],
   "source": [
    "acciones_globales = {}\n",
    "acciones_individuales = {}\n",
    "clientes = []\n",
    "faker = Faker()\n",
    "\n",
    "\n",
    "class Cliente:\n",
    "    renegado: bool = False\n",
    "    pelicula: str = 'NA'\n",
    "    cantidad_boletos: int = 0\n",
    "    acciones: dict = {}\n",
    "\n",
    "    def __init__(self, nombre):\n",
    "        self.nombre = nombre\n",
    "        pass\n",
    "\n",
    "    def __str__(self):\n",
    "        return f'nombre: {self.nombre}, renegado {self.renegado}, pelicula {self.pelicula}, cantidad_boletos {self.cantidad_boletos}, acciones {self.acciones}'"
   ]
  },
  {
   "cell_type": "code",
   "execution_count": 36,
   "outputs": [
    {
     "name": "stdout",
     "output_type": "stream",
     "text": [
      "Teatro Carlos Crespi - UPS\n",
      "Pelicula: Conjuro 3 se agoto en el tiempo 111.8 despues de salir a la venta\n",
      "Numero de personas que salieron de la fila/renegados 38\n",
      "Pelicula: Rapidos y Furiosos 10 se agoto en el tiempo 116.3 despues de salir a la venta\n",
      "Numero de personas que salieron de la fila/renegados 40\n",
      "Pelicula: Pulp Fiction se agoto en el tiempo 118.3 despues de salir a la venta\n",
      "Numero de personas que salieron de la fila/renegados 34\n"
     ]
    }
   ],
   "source": [
    "def ventaBoletos(env, num_boletos, pelicula, teatro, name):\n",
    "    with teatro.contador.request() as turno:\n",
    "        resultado = yield turno | teatro.sold_out[pelicula]\n",
    "\n",
    "        if turno not in resultado:\n",
    "            acciones_individuales.get(name).append(('sin_turno', env.now))\n",
    "            teatro.num_renegados[pelicula] += 1\n",
    "            return\n",
    "\n",
    "        if teatro.num_boletos[pelicula] < num_boletos:\n",
    "            yield env.timeout(0.5)\n",
    "            acciones_individuales.get(name).append(('renegado', env.now))\n",
    "            return\n",
    "        teatro.num_boletos[pelicula] -= num_boletos\n",
    "        acciones_individuales.get(name).append(('logrado', env.now))\n",
    "        if teatro.num_boletos[pelicula] < 2:\n",
    "            acciones_globales['fin_boletos' + pelicula] = env.now\n",
    "            teatro.sold_out[pelicula].succeed()\n",
    "            teatro.tiempo_agotado[pelicula] = env.now\n",
    "            teatro.num_boletos[pelicula] = 0\n",
    "        yield env.timeout(1)\n",
    "\n",
    "\n",
    "def llegadaClientes(env, teatro):\n",
    "    while True:\n",
    "        name = faker.name()\n",
    "        acciones_individuales[name] = []\n",
    "\n",
    "        yield env.timeout(random.expovariate(1 / 0.5))\n",
    "        pelicula = random.choice(teatro.peliculas)\n",
    "        num_boletos = random.randint(1, 6)\n",
    "\n",
    "        acciones_individuales.get(name).append(('llega', env.now))\n",
    "        acciones_individuales.get(name).append(('pelicula', pelicula))\n",
    "        acciones_individuales.get(name).append(('num_boletos', num_boletos))\n",
    "\n",
    "        if teatro.num_boletos[pelicula]:\n",
    "            env.process(ventaBoletos(env, num_boletos, pelicula, teatro, name))\n",
    "\n",
    "\n",
    "Teatro = collections.namedtuple('Teatro', 'contador, peliculas, num_boletos, sold_out, tiempo_agotado, num_renegados')\n",
    "\n",
    "print('Teatro Carlos Crespi - UPS')\n",
    "env = simpy.Environment()\n",
    "\n",
    "contador = simpy.Resource(env, capacity=1)\n",
    "peliculas = ['Conjuro 3', 'Rapidos y Furiosos 10', 'Pulp Fiction']\n",
    "num_boletos = {pelicula: NUM_BOLETO for pelicula in peliculas}\n",
    "sold_out = {pelicula: env.event() for pelicula in peliculas}\n",
    "tiempo_agotado = {pelicula: None for pelicula in peliculas}\n",
    "num_renegados = {pelicula: 0 for pelicula in peliculas}\n",
    "\n",
    "teatro = Teatro(contador, peliculas, num_boletos, sold_out, tiempo_agotado, num_renegados)\n",
    "env.process(llegadaClientes(env, teatro))\n",
    "env.run(until=TIEMPO_SIMULACION)\n",
    "\n",
    "# Analisis y resultados\n",
    "for pelicula in peliculas:\n",
    "    if teatro.sold_out[pelicula]:\n",
    "        print('Pelicula: %s se agoto en el tiempo %.1f despues de salir a la venta' % (\n",
    "        pelicula, teatro.tiempo_agotado[pelicula]))\n",
    "        print('Numero de personas que salieron de la fila/renegados %s' % teatro.num_renegados[pelicula])"
   ],
   "metadata": {
    "collapsed": false,
    "pycharm": {
     "name": "#%%\n"
    }
   }
  },
  {
   "cell_type": "code",
   "execution_count": 37,
   "outputs": [
    {
     "data": {
      "text/plain": "{'Douglas Young': [('llega', 1.7919524788099048),\n  ('pelicula', 'Rapidos y Furiosos 10'),\n  ('num_boletos', 1),\n  ('logrado', 1.7919524788099048)],\n 'Lindsay Jimenez': [('llega', 1.8006755379337487),\n  ('pelicula', 'Pulp Fiction'),\n  ('num_boletos', 5),\n  ('logrado', 2.791952478809905)],\n 'Julie Smith': [('llega', 2.2563407483946434),\n  ('pelicula', 'Rapidos y Furiosos 10'),\n  ('num_boletos', 4),\n  ('logrado', 3.791952478809905)],\n 'Alison Flores': [('llega', 2.6569330218578426),\n  ('pelicula', 'Rapidos y Furiosos 10'),\n  ('num_boletos', 3),\n  ('logrado', 4.791952478809905)],\n 'Christina Roberts': [('llega', 3.078055191912197),\n  ('pelicula', 'Rapidos y Furiosos 10'),\n  ('num_boletos', 3),\n  ('logrado', 5.791952478809905)],\n 'Stephanie Coleman': [('llega', 3.144706797310613),\n  ('pelicula', 'Rapidos y Furiosos 10'),\n  ('num_boletos', 3),\n  ('logrado', 6.791952478809905)],\n 'James Ortiz MD': [('llega', 3.5603424696049197),\n  ('pelicula', 'Conjuro 3'),\n  ('num_boletos', 2),\n  ('logrado', 7.791952478809905)],\n 'Tami Hutchinson': [('llega', 3.797962730981499),\n  ('pelicula', 'Rapidos y Furiosos 10'),\n  ('num_boletos', 1),\n  ('logrado', 8.791952478809904)],\n 'Raymond Johnson': [('llega', 4.7934695703484165),\n  ('pelicula', 'Pulp Fiction'),\n  ('num_boletos', 4),\n  ('logrado', 9.791952478809904)],\n 'Jennifer Mullen': [('llega', 5.093811190506365),\n  ('pelicula', 'Conjuro 3'),\n  ('num_boletos', 6),\n  ('logrado', 10.791952478809904)],\n 'Erika Ruiz': [('llega', 5.178920041202546),\n  ('pelicula', 'Pulp Fiction'),\n  ('num_boletos', 3),\n  ('logrado', 11.791952478809904)],\n 'Krista Moreno': [('llega', 5.378051846195069),\n  ('pelicula', 'Rapidos y Furiosos 10'),\n  ('num_boletos', 5),\n  ('logrado', 12.791952478809904)],\n 'Virginia Combs': [('llega', 6.252392408639723),\n  ('pelicula', 'Pulp Fiction'),\n  ('num_boletos', 3),\n  ('logrado', 13.791952478809904)],\n 'Charles Jimenez': [('llega', 7.237774181737004),\n  ('pelicula', 'Pulp Fiction'),\n  ('num_boletos', 1),\n  ('logrado', 14.791952478809904)],\n 'Christopher Lynn': [('llega', 7.3083927839999605),\n  ('pelicula', 'Conjuro 3'),\n  ('num_boletos', 6),\n  ('logrado', 15.791952478809904)],\n 'Cathy Sawyer': [('llega', 7.555925508311252),\n  ('pelicula', 'Rapidos y Furiosos 10'),\n  ('num_boletos', 2),\n  ('logrado', 16.791952478809904)],\n 'Jose Chang': [('llega', 7.703245610101671),\n  ('pelicula', 'Conjuro 3'),\n  ('num_boletos', 3),\n  ('logrado', 17.791952478809904)],\n 'Julie Johnson': [('llega', 7.806555076811809),\n  ('pelicula', 'Pulp Fiction'),\n  ('num_boletos', 6),\n  ('logrado', 18.791952478809904)],\n 'Victoria Bean': [('llega', 8.746103498758),\n  ('pelicula', 'Rapidos y Furiosos 10'),\n  ('num_boletos', 2),\n  ('logrado', 19.791952478809904)],\n 'Lisa Hodge': [('llega', 8.923241067701127),\n  ('pelicula', 'Conjuro 3'),\n  ('num_boletos', 6),\n  ('logrado', 20.791952478809904)],\n 'Crystal Hunt': [('llega', 9.199287251239666),\n  ('pelicula', 'Conjuro 3'),\n  ('num_boletos', 6),\n  ('logrado', 21.791952478809904)],\n 'Lisa Copeland': [('llega', 9.509819461853105),\n  ('pelicula', 'Pulp Fiction'),\n  ('num_boletos', 3),\n  ('logrado', 22.791952478809904)],\n 'Terry Sullivan': [('llega', 9.683609452012204),\n  ('pelicula', 'Rapidos y Furiosos 10'),\n  ('num_boletos', 4),\n  ('logrado', 23.791952478809904)],\n 'Adam Ellis': [('llega', 10.08385210377822),\n  ('pelicula', 'Conjuro 3'),\n  ('num_boletos', 5),\n  ('logrado', 24.791952478809904)],\n 'Theodore Gonzalez': [('llega', 11.69229207493245),\n  ('pelicula', 'Pulp Fiction'),\n  ('num_boletos', 3),\n  ('logrado', 25.791952478809904)],\n 'Nathan Pitts': [('llega', 11.812147993866205),\n  ('pelicula', 'Conjuro 3'),\n  ('num_boletos', 5),\n  ('logrado', 26.791952478809904)],\n 'Lawrence Rivera': [('llega', 11.927340354542494),\n  ('pelicula', 'Pulp Fiction'),\n  ('num_boletos', 2),\n  ('logrado', 27.791952478809904)],\n 'Scott Vazquez': [('llega', 12.847926657958716),\n  ('pelicula', 'Rapidos y Furiosos 10'),\n  ('num_boletos', 4),\n  ('logrado', 28.791952478809904)],\n 'Jennifer Black': [('llega', 13.44567687678013),\n  ('pelicula', 'Pulp Fiction'),\n  ('num_boletos', 3),\n  ('logrado', 29.791952478809904)],\n 'Gina Lyons': [('llega', 13.753998766789122),\n  ('pelicula', 'Conjuro 3'),\n  ('num_boletos', 4),\n  ('logrado', 30.791952478809904)],\n 'Stephen Tate': [('llega', 14.866833330887925),\n  ('pelicula', 'Rapidos y Furiosos 10'),\n  ('num_boletos', 1),\n  ('logrado', 31.791952478809904)],\n 'Robert Campbell': [('llega', 14.97058750244554),\n  ('pelicula', 'Rapidos y Furiosos 10'),\n  ('num_boletos', 1),\n  ('logrado', 32.791952478809904)],\n 'Anna Nunez': [('llega', 17.21095793430032),\n  ('pelicula', 'Pulp Fiction'),\n  ('num_boletos', 3),\n  ('logrado', 33.791952478809904)],\n 'Sean Logan': [('llega', 17.429635931663515),\n  ('pelicula', 'Conjuro 3'),\n  ('num_boletos', 3),\n  ('logrado', 34.791952478809904)],\n 'Shelly Williams': [('llega', 17.832504112612423),\n  ('pelicula', 'Rapidos y Furiosos 10'),\n  ('num_boletos', 6),\n  ('logrado', 35.791952478809904)],\n 'Kristin Chavez': [('llega', 17.880751197881086),\n  ('pelicula', 'Rapidos y Furiosos 10'),\n  ('num_boletos', 3),\n  ('logrado', 36.791952478809904)],\n 'Sarah Wells': [('llega', 18.327980195658828),\n  ('pelicula', 'Conjuro 3'),\n  ('num_boletos', 1),\n  ('logrado', 37.791952478809904)],\n 'Dr. Kevin Carlson': [('llega', 18.624578537500895),\n  ('pelicula', 'Pulp Fiction'),\n  ('num_boletos', 6),\n  ('logrado', 38.791952478809904)],\n 'Jennifer Johnson': [('llega', 18.915582957590065),\n  ('pelicula', 'Conjuro 3'),\n  ('num_boletos', 3),\n  ('logrado', 39.791952478809904)],\n 'Veronica Anderson': [('llega', 19.32915445575343),\n  ('pelicula', 'Pulp Fiction'),\n  ('num_boletos', 2),\n  ('logrado', 40.791952478809904)],\n 'Walter Velasquez': [('llega', 20.129712327246477),\n  ('pelicula', 'Pulp Fiction'),\n  ('num_boletos', 3),\n  ('logrado', 41.791952478809904)],\n 'Christian Brown': [('llega', 20.462666477456345),\n  ('pelicula', 'Rapidos y Furiosos 10'),\n  ('num_boletos', 1),\n  ('logrado', 42.791952478809904)],\n 'Mark Kaiser': [('llega', 20.64207800374018),\n  ('pelicula', 'Conjuro 3'),\n  ('num_boletos', 4),\n  ('logrado', 43.791952478809904)],\n 'James Jones': [('llega', 21.128540587512877),\n  ('pelicula', 'Pulp Fiction'),\n  ('num_boletos', 6),\n  ('logrado', 44.791952478809904)],\n 'Whitney Perkins': [('llega', 21.384762066044335),\n  ('pelicula', 'Conjuro 3'),\n  ('num_boletos', 2),\n  ('logrado', 45.791952478809904)],\n 'Trevor Baldwin': [('llega', 21.47299912359058),\n  ('pelicula', 'Rapidos y Furiosos 10'),\n  ('num_boletos', 6),\n  ('logrado', 46.791952478809904)],\n 'Benjamin Ferguson': [('llega', 21.73225840678233),\n  ('pelicula', 'Rapidos y Furiosos 10'),\n  ('num_boletos', 4),\n  ('logrado', 47.791952478809904)],\n 'Timothy Henderson': [('llega', 21.83619525077791),\n  ('pelicula', 'Conjuro 3'),\n  ('num_boletos', 2),\n  ('logrado', 48.791952478809904)],\n 'Carolyn Jordan': [('llega', 22.234156858809794),\n  ('pelicula', 'Conjuro 3'),\n  ('num_boletos', 4),\n  ('logrado', 49.791952478809904)],\n 'Kenneth Atkinson': [('llega', 22.62547554814957),\n  ('pelicula', 'Conjuro 3'),\n  ('num_boletos', 1),\n  ('logrado', 50.791952478809904)],\n 'Michael Cole': [('llega', 22.798975555549355),\n  ('pelicula', 'Conjuro 3'),\n  ('num_boletos', 2),\n  ('logrado', 51.791952478809904)],\n 'Andrew Kerr': [('llega', 23.391706555831494),\n  ('pelicula', 'Rapidos y Furiosos 10'),\n  ('num_boletos', 6),\n  ('logrado', 52.791952478809904)],\n 'Julian Obrien': [('llega', 23.475200105122227),\n  ('pelicula', 'Conjuro 3'),\n  ('num_boletos', 1),\n  ('logrado', 53.791952478809904)],\n 'Allison Duncan': [('llega', 23.678388855671727),\n  ('pelicula', 'Conjuro 3'),\n  ('num_boletos', 3),\n  ('logrado', 54.791952478809904)],\n 'Jessica Blackburn': [('llega', 25.27711060745951),\n  ('pelicula', 'Rapidos y Furiosos 10'),\n  ('num_boletos', 2),\n  ('logrado', 55.791952478809904)],\n 'Michael Griffith': [('llega', 25.405543485998297),\n  ('pelicula', 'Rapidos y Furiosos 10'),\n  ('num_boletos', 1),\n  ('logrado', 56.791952478809904)],\n 'Rhonda Ferguson': [('llega', 25.605626450456484),\n  ('pelicula', 'Rapidos y Furiosos 10'),\n  ('num_boletos', 4),\n  ('logrado', 57.791952478809904)],\n 'Caleb Green': [('llega', 25.753270566681337),\n  ('pelicula', 'Rapidos y Furiosos 10'),\n  ('num_boletos', 4),\n  ('logrado', 58.791952478809904)],\n 'Russell Dawson': [('llega', 26.122195200627953),\n  ('pelicula', 'Pulp Fiction'),\n  ('num_boletos', 1),\n  ('logrado', 59.791952478809904)],\n 'Joanna Stone': [('llega', 26.245494011474168),\n  ('pelicula', 'Rapidos y Furiosos 10'),\n  ('num_boletos', 2),\n  ('logrado', 60.791952478809904)],\n 'Catherine Thomas': [('llega', 26.63371127705296),\n  ('pelicula', 'Rapidos y Furiosos 10'),\n  ('num_boletos', 1),\n  ('logrado', 61.791952478809904)],\n 'Christopher Combs': [('llega', 26.922568223073693),\n  ('pelicula', 'Pulp Fiction'),\n  ('num_boletos', 5),\n  ('logrado', 62.791952478809904)],\n 'Terry Ayers': [('llega', 27.3152506599955),\n  ('pelicula', 'Conjuro 3'),\n  ('num_boletos', 4),\n  ('logrado', 63.791952478809904)],\n 'Alexis Maynard': [('llega', 27.748027123241492),\n  ('pelicula', 'Conjuro 3'),\n  ('num_boletos', 3),\n  ('logrado', 64.7919524788099)],\n 'Darlene Butler': [('llega', 28.12951766486927),\n  ('pelicula', 'Pulp Fiction'),\n  ('num_boletos', 3),\n  ('logrado', 65.7919524788099)],\n 'Melinda Flores': [('llega', 28.455181885628708),\n  ('pelicula', 'Rapidos y Furiosos 10'),\n  ('num_boletos', 4),\n  ('logrado', 66.7919524788099)],\n 'Nicholas Weber': [('llega', 28.48308105562517),\n  ('pelicula', 'Rapidos y Furiosos 10'),\n  ('num_boletos', 6),\n  ('logrado', 67.7919524788099)],\n 'Brian Shaffer': [('llega', 30.0921824443264),\n  ('pelicula', 'Pulp Fiction'),\n  ('num_boletos', 2),\n  ('logrado', 68.7919524788099)],\n 'Lisa Roach': [('llega', 30.591511631427572),\n  ('pelicula', 'Rapidos y Furiosos 10'),\n  ('num_boletos', 4),\n  ('logrado', 69.7919524788099)],\n 'Angel Murphy': [('llega', 31.777701962645118),\n  ('pelicula', 'Conjuro 3'),\n  ('num_boletos', 1),\n  ('logrado', 70.7919524788099)],\n 'Olivia Jackson': [('llega', 31.78872749168359),\n  ('pelicula', 'Pulp Fiction'),\n  ('num_boletos', 3),\n  ('logrado', 71.7919524788099)],\n 'Cheryl Singleton': [('llega', 31.931200334148258),\n  ('pelicula', 'Rapidos y Furiosos 10'),\n  ('num_boletos', 1),\n  ('logrado', 72.7919524788099)],\n 'Paul Odom': [('llega', 34.64101343420206),\n  ('pelicula', 'Rapidos y Furiosos 10'),\n  ('num_boletos', 3),\n  ('logrado', 73.7919524788099)],\n 'Kristin Walter': [('llega', 34.76202886150586),\n  ('pelicula', 'Pulp Fiction'),\n  ('num_boletos', 1),\n  ('logrado', 74.7919524788099)],\n 'Margaret Gonzalez': [('llega', 35.186659120896735),\n  ('pelicula', 'Rapidos y Furiosos 10'),\n  ('num_boletos', 6),\n  ('logrado', 75.7919524788099)],\n 'Paul Rogers': [('llega', 35.48479211069692),\n  ('pelicula', 'Pulp Fiction'),\n  ('num_boletos', 3),\n  ('logrado', 76.7919524788099)],\n 'Vincent Medina': [('llega', 35.832641382694035),\n  ('pelicula', 'Conjuro 3'),\n  ('num_boletos', 5),\n  ('logrado', 77.7919524788099)],\n 'Michelle Underwood': [('llega', 36.17776889525657),\n  ('pelicula', 'Pulp Fiction'),\n  ('num_boletos', 1),\n  ('logrado', 78.7919524788099)],\n 'Michele Hernandez': [('llega', 36.45212390966476),\n  ('pelicula', 'Conjuro 3'),\n  ('num_boletos', 1),\n  ('logrado', 79.7919524788099)],\n 'Barbara Avery': [('llega', 36.592726925385044),\n  ('pelicula', 'Rapidos y Furiosos 10'),\n  ('num_boletos', 1),\n  ('logrado', 80.7919524788099)],\n 'Laura Parks': [('llega', 36.659821238551224),\n  ('pelicula', 'Conjuro 3'),\n  ('num_boletos', 1),\n  ('logrado', 81.7919524788099)],\n 'Monica Church': [('llega', 37.16288616706476),\n  ('pelicula', 'Rapidos y Furiosos 10'),\n  ('num_boletos', 2),\n  ('logrado', 82.7919524788099)],\n 'Miranda Mcmillan': [('llega', 37.596856757958165),\n  ('pelicula', 'Pulp Fiction'),\n  ('num_boletos', 1),\n  ('logrado', 83.7919524788099)],\n 'Travis Guzman': [('llega', 38.20049147224304),\n  ('pelicula', 'Pulp Fiction'),\n  ('num_boletos', 2),\n  ('logrado', 84.7919524788099)],\n 'Donna Kelly': [('llega', 38.33104003770939),\n  ('pelicula', 'Conjuro 3'),\n  ('num_boletos', 2),\n  ('logrado', 85.7919524788099)],\n 'Jodi Small': [('llega', 40.08727016451451),\n  ('pelicula', 'Pulp Fiction'),\n  ('num_boletos', 2),\n  ('logrado', 86.7919524788099)],\n 'Carla Taylor': [('llega', 40.54278337728677),\n  ('pelicula', 'Pulp Fiction'),\n  ('num_boletos', 3),\n  ('logrado', 87.7919524788099)],\n 'Melissa Sweeney': [('llega', 40.576483795465165),\n  ('pelicula', 'Conjuro 3'),\n  ('num_boletos', 5),\n  ('logrado', 88.7919524788099)],\n 'Diane Carrillo': [('llega', 41.00088520220861),\n  ('pelicula', 'Rapidos y Furiosos 10'),\n  ('num_boletos', 2),\n  ('logrado', 89.7919524788099)],\n 'Heather Hill': [('llega', 41.164794473484996),\n  ('pelicula', 'Rapidos y Furiosos 10'),\n  ('num_boletos', 2),\n  ('logrado', 90.7919524788099)],\n 'Paul Stephens': [('llega', 41.29924392826527),\n  ('pelicula', 'Pulp Fiction'),\n  ('num_boletos', 6),\n  ('logrado', 91.7919524788099)],\n 'Barbara Downs': [('llega', 41.60072202277423),\n  ('pelicula', 'Pulp Fiction'),\n  ('num_boletos', 6),\n  ('logrado', 92.7919524788099)],\n 'Laura Rojas': [('llega', 41.74076180580175),\n  ('pelicula', 'Pulp Fiction'),\n  ('num_boletos', 2),\n  ('logrado', 93.7919524788099)],\n 'Kimberly Carter': [('llega', 41.86457091581963),\n  ('pelicula', 'Conjuro 3'),\n  ('num_boletos', 6),\n  ('logrado', 94.7919524788099)],\n 'Jessica Zimmerman': [('llega', 42.06758679916114),\n  ('pelicula', 'Pulp Fiction'),\n  ('num_boletos', 5),\n  ('logrado', 95.7919524788099)],\n 'Janet Welch': [('llega', 42.75694947398079),\n  ('pelicula', 'Conjuro 3'),\n  ('num_boletos', 5),\n  ('logrado', 96.7919524788099)],\n 'Kimberly Melendez': [('llega', 43.135644754401),\n  ('pelicula', 'Pulp Fiction'),\n  ('num_boletos', 2),\n  ('logrado', 97.7919524788099)],\n 'Kimberly King': [('llega', 43.161292253004),\n  ('pelicula', 'Conjuro 3'),\n  ('num_boletos', 5),\n  ('logrado', 98.7919524788099)],\n 'Sarah Robinson': [('llega', 43.30882844266154),\n  ('pelicula', 'Rapidos y Furiosos 10'),\n  ('num_boletos', 1),\n  ('logrado', 99.7919524788099)],\n 'Jay Floyd': [('llega', 43.81809278758434),\n  ('pelicula', 'Pulp Fiction'),\n  ('num_boletos', 1),\n  ('logrado', 100.7919524788099)],\n 'Kyle Manning': [('llega', 43.89460022178438),\n  ('pelicula', 'Rapidos y Furiosos 10'),\n  ('num_boletos', 5),\n  ('logrado', 101.7919524788099)],\n 'Jason Jones': [('llega', 44.17904283980083),\n  ('pelicula', 'Conjuro 3'),\n  ('num_boletos', 6),\n  ('logrado', 102.7919524788099)],\n 'Robert Rogers': [('llega', 44.5244226213398),\n  ('pelicula', 'Pulp Fiction'),\n  ('num_boletos', 4),\n  ('logrado', 103.7919524788099)],\n 'Amber Sanchez': [('llega', 45.05306284004035),\n  ('pelicula', 'Rapidos y Furiosos 10'),\n  ('num_boletos', 6),\n  ('logrado', 104.7919524788099)],\n 'Judith Roberts': [('llega', 45.66732134595554),\n  ('pelicula', 'Pulp Fiction'),\n  ('num_boletos', 1),\n  ('logrado', 105.7919524788099)],\n 'Katherine Rodriguez': [('llega', 46.136077019282176),\n  ('pelicula', 'Conjuro 3'),\n  ('num_boletos', 1),\n  ('logrado', 106.7919524788099)],\n 'Stephen Russell': [('llega', 46.61656129953717),\n  ('pelicula', 'Conjuro 3'),\n  ('num_boletos', 1),\n  ('logrado', 107.7919524788099)],\n 'Sean Carr': [('llega', 46.831136516977836),\n  ('pelicula', 'Pulp Fiction'),\n  ('num_boletos', 4),\n  ('logrado', 108.7919524788099)],\n 'Karen Waters': [('llega', 47.28544040332532),\n  ('pelicula', 'Pulp Fiction'),\n  ('num_boletos', 5),\n  ('logrado', 109.7919524788099)],\n 'Jason Morgan': [('llega', 48.25042001939053),\n  ('pelicula', 'Conjuro 3'),\n  ('num_boletos', 3),\n  ('logrado', 110.7919524788099)],\n 'Kimberly Christensen': [('llega', 48.39958741318335),\n  ('pelicula', 'Conjuro 3'),\n  ('num_boletos', 1),\n  ('logrado', 111.7919524788099)],\n 'Derek Payne': [('llega', 48.82230073768911),\n  ('pelicula', 'Conjuro 3'),\n  ('num_boletos', 2),\n  ('sin_turno', 111.7919524788099)],\n 'Michael Robinson': [('llega', 49.569196387791415),\n  ('pelicula', 'Pulp Fiction'),\n  ('num_boletos', 6),\n  ('renegado', 113.2919524788099)],\n 'Mark Ramsey': [('llega', 49.79427471150709),\n  ('pelicula', 'Pulp Fiction'),\n  ('num_boletos', 5),\n  ('renegado', 113.7919524788099)],\n 'Ryan West': [('llega', 49.8036368175523),\n  ('pelicula', 'Rapidos y Furiosos 10'),\n  ('num_boletos', 1),\n  ('logrado', 113.7919524788099)],\n 'Eugene Mason': [('llega', 50.72743926285684),\n  ('pelicula', 'Pulp Fiction'),\n  ('num_boletos', 1),\n  ('logrado', 114.7919524788099)],\n 'Heidi Rich': [('llega', 50.89207200827367),\n  ('pelicula', 'Conjuro 3'),\n  ('num_boletos', 3),\n  ('sin_turno', 111.7919524788099)],\n 'Robert Sanders': [('llega', 51.91575259680867),\n  ('pelicula', 'Rapidos y Furiosos 10'),\n  ('num_boletos', 6),\n  ('renegado', 116.2919524788099)],\n 'Juan Weeks': [('llega', 52.70160435453988),\n  ('pelicula', 'Rapidos y Furiosos 10'),\n  ('num_boletos', 2),\n  ('logrado', 116.2919524788099)],\n 'Shane Kelly': [('llega', 53.040033707085136),\n  ('pelicula', 'Pulp Fiction'),\n  ('num_boletos', 1),\n  ('logrado', 117.2919524788099)],\n 'Robert Dorsey': [('llega', 53.79560452306038),\n  ('pelicula', 'Rapidos y Furiosos 10'),\n  ('num_boletos', 5),\n  ('sin_turno', 116.2919524788099)],\n 'Thomas Hansen': [('llega', 54.00143895495705),\n  ('pelicula', 'Rapidos y Furiosos 10'),\n  ('num_boletos', 6),\n  ('sin_turno', 116.2919524788099)],\n 'Julie Coleman': [('llega', 54.497614427089445),\n  ('pelicula', 'Pulp Fiction'),\n  ('num_boletos', 1),\n  ('logrado', 118.2919524788099)],\n 'Robyn Novak': [('llega', 55.24979712912992),\n  ('pelicula', 'Rapidos y Furiosos 10'),\n  ('num_boletos', 5),\n  ('sin_turno', 116.2919524788099)],\n 'Steven Hodge': [('llega', 56.177425234212),\n  ('pelicula', 'Conjuro 3'),\n  ('num_boletos', 4),\n  ('sin_turno', 111.7919524788099)],\n 'Brandon Delgado': [('llega', 56.729037704696346),\n  ('pelicula', 'Pulp Fiction'),\n  ('num_boletos', 4),\n  ('sin_turno', 118.2919524788099)],\n 'Hannah Nolan': [('llega', 56.823020902632535),\n  ('pelicula', 'Conjuro 3'),\n  ('num_boletos', 3),\n  ('sin_turno', 111.7919524788099)],\n 'Jacqueline Lopez': [('llega', 58.264185178505876),\n  ('pelicula', 'Pulp Fiction'),\n  ('num_boletos', 5),\n  ('sin_turno', 118.2919524788099)],\n 'Ashley Wagner': [('llega', 59.57571063672325),\n  ('pelicula', 'Conjuro 3'),\n  ('num_boletos', 6),\n  ('sin_turno', 111.7919524788099)],\n 'Mrs. Katelyn Trujillo': [('llega', 60.01325095851536),\n  ('pelicula', 'Rapidos y Furiosos 10'),\n  ('num_boletos', 1),\n  ('sin_turno', 116.2919524788099)],\n 'Sheri George': [('llega', 60.01403831421415),\n  ('pelicula', 'Conjuro 3'),\n  ('num_boletos', 4),\n  ('sin_turno', 111.7919524788099)],\n 'Lynn Weber': [('llega', 60.47554899719207),\n  ('pelicula', 'Pulp Fiction'),\n  ('num_boletos', 3),\n  ('sin_turno', 118.2919524788099)],\n 'Larry Crosby': [('llega', 61.406400717241326),\n  ('pelicula', 'Pulp Fiction'),\n  ('num_boletos', 2),\n  ('sin_turno', 118.2919524788099)],\n 'Betty Wright': [('llega', 61.52695574879655),\n  ('pelicula', 'Conjuro 3'),\n  ('num_boletos', 1),\n  ('sin_turno', 111.7919524788099)],\n 'John Burnett': [('llega', 62.534457701655775),\n  ('pelicula', 'Conjuro 3'),\n  ('num_boletos', 2),\n  ('sin_turno', 111.7919524788099)],\n 'Christopher Coleman': [('llega', 62.78983710339586),\n  ('pelicula', 'Rapidos y Furiosos 10'),\n  ('num_boletos', 2),\n  ('sin_turno', 116.2919524788099)],\n 'Jessica Proctor': [('llega', 63.1001688673218),\n  ('pelicula', 'Conjuro 3'),\n  ('num_boletos', 6),\n  ('sin_turno', 111.7919524788099)],\n 'Jessica Wright': [('llega', 63.27395784080576),\n  ('pelicula', 'Pulp Fiction'),\n  ('num_boletos', 3),\n  ('sin_turno', 118.2919524788099)],\n 'Michelle Montgomery': [('llega', 64.5192361712888),\n  ('pelicula', 'Rapidos y Furiosos 10'),\n  ('num_boletos', 4),\n  ('sin_turno', 116.2919524788099)],\n 'Tiffany Butler': [('llega', 64.8017529977969),\n  ('pelicula', 'Rapidos y Furiosos 10'),\n  ('num_boletos', 5),\n  ('sin_turno', 116.2919524788099)],\n 'Michael Davis': [('llega', 64.83967585584581),\n  ('pelicula', 'Rapidos y Furiosos 10'),\n  ('num_boletos', 6),\n  ('sin_turno', 116.2919524788099)],\n 'Kimberly Vasquez': [('llega', 65.26456944950836),\n  ('pelicula', 'Conjuro 3'),\n  ('num_boletos', 4),\n  ('sin_turno', 111.7919524788099)],\n 'Melinda Bishop': [('llega', 67.50878694357823),\n  ('pelicula', 'Pulp Fiction'),\n  ('num_boletos', 5),\n  ('sin_turno', 118.2919524788099)],\n 'Justin Moore': [('llega', 67.5256934543868),\n  ('pelicula', 'Conjuro 3'),\n  ('num_boletos', 2),\n  ('sin_turno', 111.7919524788099)],\n 'Wanda Norton': [('llega', 67.75476948867261),\n  ('pelicula', 'Rapidos y Furiosos 10'),\n  ('num_boletos', 2),\n  ('sin_turno', 116.2919524788099)],\n 'David Knox': [('llega', 67.89104266580792),\n  ('pelicula', 'Pulp Fiction'),\n  ('num_boletos', 6),\n  ('sin_turno', 118.2919524788099)],\n 'Mr. Scott Frye': [('llega', 68.21885179041307),\n  ('pelicula', 'Pulp Fiction'),\n  ('num_boletos', 6),\n  ('sin_turno', 118.2919524788099)],\n 'Jennifer Villarreal': [('llega', 68.41313787318441),\n  ('pelicula', 'Rapidos y Furiosos 10'),\n  ('num_boletos', 6),\n  ('sin_turno', 116.2919524788099)],\n 'Mark Porter': [('llega', 68.94270259485005),\n  ('pelicula', 'Conjuro 3'),\n  ('num_boletos', 2),\n  ('sin_turno', 111.7919524788099)],\n 'Margaret Garcia': [('llega', 69.60499798464494),\n  ('pelicula', 'Conjuro 3'),\n  ('num_boletos', 2),\n  ('sin_turno', 111.7919524788099)],\n 'Andrea Brooks': [('llega', 70.18389288841907),\n  ('pelicula', 'Pulp Fiction'),\n  ('num_boletos', 1),\n  ('sin_turno', 118.2919524788099)],\n 'Nicole Nicholson': [('llega', 70.18468343514874),\n  ('pelicula', 'Pulp Fiction'),\n  ('num_boletos', 3),\n  ('sin_turno', 118.2919524788099)],\n 'Timothy Holmes': [('llega', 70.31860202077769),\n  ('pelicula', 'Conjuro 3'),\n  ('num_boletos', 6),\n  ('sin_turno', 111.7919524788099)],\n 'Tyler Dixon': [('llega', 70.36381382887924),\n  ('pelicula', 'Rapidos y Furiosos 10'),\n  ('num_boletos', 3),\n  ('sin_turno', 116.2919524788099)],\n 'Barbara Ward': [('llega', 70.46334436425474),\n  ('pelicula', 'Conjuro 3'),\n  ('num_boletos', 1),\n  ('sin_turno', 111.7919524788099)],\n 'Lisa Wood': [('llega', 70.61686792556347),\n  ('pelicula', 'Rapidos y Furiosos 10'),\n  ('num_boletos', 3),\n  ('sin_turno', 116.2919524788099)],\n 'Jane Santiago': [('llega', 71.80382387799176),\n  ('pelicula', 'Conjuro 3'),\n  ('num_boletos', 5),\n  ('sin_turno', 111.7919524788099)],\n 'Jason Carson': [('llega', 72.03045331853669),\n  ('pelicula', 'Conjuro 3'),\n  ('num_boletos', 2),\n  ('sin_turno', 111.7919524788099)],\n 'Shelly Perez': [('llega', 72.549298142897),\n  ('pelicula', 'Pulp Fiction'),\n  ('num_boletos', 6),\n  ('sin_turno', 118.2919524788099)],\n 'Melissa Jacobs': [('llega', 73.23213026712085),\n  ('pelicula', 'Conjuro 3'),\n  ('num_boletos', 1),\n  ('sin_turno', 111.7919524788099)],\n 'Edward Curtis': [('llega', 74.94334576914135),\n  ('pelicula', 'Pulp Fiction'),\n  ('num_boletos', 1),\n  ('sin_turno', 118.2919524788099)],\n 'Devon Delgado': [('llega', 75.48453101927369),\n  ('pelicula', 'Conjuro 3'),\n  ('num_boletos', 5),\n  ('sin_turno', 111.7919524788099)],\n 'Theresa Tanner': [('llega', 75.76149684585364),\n  ('pelicula', 'Rapidos y Furiosos 10'),\n  ('num_boletos', 3),\n  ('sin_turno', 116.2919524788099)],\n 'James Neal': [('llega', 78.26543634194051),\n  ('pelicula', 'Rapidos y Furiosos 10'),\n  ('num_boletos', 2),\n  ('sin_turno', 116.2919524788099)],\n 'Michael Collins': [('llega', 79.09493657160611),\n  ('pelicula', 'Pulp Fiction'),\n  ('num_boletos', 4),\n  ('sin_turno', 118.2919524788099)],\n 'Linda Buchanan': [('llega', 79.4782604706568),\n  ('pelicula', 'Rapidos y Furiosos 10'),\n  ('num_boletos', 2),\n  ('sin_turno', 116.2919524788099)],\n 'Philip Mcdowell': [('llega', 80.86108637363756),\n  ('pelicula', 'Rapidos y Furiosos 10'),\n  ('num_boletos', 6),\n  ('sin_turno', 116.2919524788099)],\n 'Keith Ballard': [('llega', 81.1882307375667),\n  ('pelicula', 'Pulp Fiction'),\n  ('num_boletos', 3),\n  ('sin_turno', 118.2919524788099)],\n 'Michael Huang': [('llega', 81.67652192244765),\n  ('pelicula', 'Pulp Fiction'),\n  ('num_boletos', 2),\n  ('sin_turno', 118.2919524788099)],\n 'Kimberly Collier': [('llega', 82.79997261749277),\n  ('pelicula', 'Pulp Fiction'),\n  ('num_boletos', 2),\n  ('sin_turno', 118.2919524788099)],\n 'Ashley Silva': [('llega', 85.31518366080289),\n  ('pelicula', 'Conjuro 3'),\n  ('num_boletos', 3),\n  ('sin_turno', 111.7919524788099)],\n 'Christine Brock': [('llega', 87.0853312468856),\n  ('pelicula', 'Conjuro 3'),\n  ('num_boletos', 3),\n  ('sin_turno', 111.7919524788099)],\n 'Danny Holloway': [('llega', 88.01093752639858),\n  ('pelicula', 'Pulp Fiction'),\n  ('num_boletos', 3),\n  ('sin_turno', 118.2919524788099)],\n 'Mr. Ryan Herring': [('llega', 88.0291726208713),\n  ('pelicula', 'Conjuro 3'),\n  ('num_boletos', 1),\n  ('sin_turno', 111.7919524788099)],\n 'Mark Torres': [('llega', 89.0119778904717),\n  ('pelicula', 'Rapidos y Furiosos 10'),\n  ('num_boletos', 4),\n  ('sin_turno', 116.2919524788099)],\n 'Jonathan Morse': [('llega', 89.12944549760375),\n  ('pelicula', 'Rapidos y Furiosos 10'),\n  ('num_boletos', 6),\n  ('sin_turno', 116.2919524788099)],\n 'Maureen Anderson': [('llega', 90.0108159994697),\n  ('pelicula', 'Rapidos y Furiosos 10'),\n  ('num_boletos', 5),\n  ('sin_turno', 116.2919524788099)],\n 'Jose Oconnor': [('llega', 90.64137748741895),\n  ('pelicula', 'Pulp Fiction'),\n  ('num_boletos', 1),\n  ('sin_turno', 118.2919524788099)],\n 'Larry Ferguson': [('llega', 91.46937932402032),\n  ('pelicula', 'Rapidos y Furiosos 10'),\n  ('num_boletos', 4),\n  ('sin_turno', 116.2919524788099)],\n 'Christopher Collins': [('llega', 91.91967351495892),\n  ('pelicula', 'Rapidos y Furiosos 10'),\n  ('num_boletos', 4),\n  ('sin_turno', 116.2919524788099)],\n 'Peter Jones': [('llega', 91.95835406629844),\n  ('pelicula', 'Pulp Fiction'),\n  ('num_boletos', 6),\n  ('sin_turno', 118.2919524788099)],\n 'Dr. Brenda Baker': [('llega', 92.17088797337212),\n  ('pelicula', 'Pulp Fiction'),\n  ('num_boletos', 6),\n  ('sin_turno', 118.2919524788099)],\n 'Robin King': [('llega', 92.26557102544172),\n  ('pelicula', 'Pulp Fiction'),\n  ('num_boletos', 2),\n  ('sin_turno', 118.2919524788099)],\n 'Kurt Johnson': [('llega', 92.68152137532252),\n  ('pelicula', 'Rapidos y Furiosos 10'),\n  ('num_boletos', 4),\n  ('sin_turno', 116.2919524788099)],\n 'Zachary Myers': [('llega', 92.6852043366613),\n  ('pelicula', 'Pulp Fiction'),\n  ('num_boletos', 3),\n  ('sin_turno', 118.2919524788099)],\n 'Steve Wilson': [('llega', 93.91498113411139),\n  ('pelicula', 'Conjuro 3'),\n  ('num_boletos', 4),\n  ('sin_turno', 111.7919524788099)],\n 'Kara Reyes': [('llega', 94.00277778812469),\n  ('pelicula', 'Conjuro 3'),\n  ('num_boletos', 4),\n  ('sin_turno', 111.7919524788099)],\n 'Cory Hoffman': [('llega', 94.3660121099768),\n  ('pelicula', 'Conjuro 3'),\n  ('num_boletos', 5),\n  ('sin_turno', 111.7919524788099)],\n 'Nancy Quinn': [('llega', 94.55822731379666),\n  ('pelicula', 'Rapidos y Furiosos 10'),\n  ('num_boletos', 3),\n  ('sin_turno', 116.2919524788099)],\n 'Spencer Burke': [('llega', 94.8472720763333),\n  ('pelicula', 'Pulp Fiction'),\n  ('num_boletos', 6),\n  ('sin_turno', 118.2919524788099)],\n 'Sabrina Brown': [('llega', 95.54908323981),\n  ('pelicula', 'Conjuro 3'),\n  ('num_boletos', 4),\n  ('sin_turno', 111.7919524788099)],\n 'Cynthia Thomas': [('llega', 95.82603541136814),\n  ('pelicula', 'Rapidos y Furiosos 10'),\n  ('num_boletos', 3),\n  ('sin_turno', 116.2919524788099)],\n 'Laura Cox': [('llega', 95.93587455187296),\n  ('pelicula', 'Rapidos y Furiosos 10'),\n  ('num_boletos', 4),\n  ('sin_turno', 116.2919524788099)],\n 'Jorge Morrow': [('llega', 96.0078625195277),\n  ('pelicula', 'Pulp Fiction'),\n  ('num_boletos', 3),\n  ('sin_turno', 118.2919524788099)],\n 'Pamela Bryant': [('llega', 96.35078024195245),\n  ('pelicula', 'Pulp Fiction'),\n  ('num_boletos', 5),\n  ('sin_turno', 118.2919524788099)],\n 'Natalie Williams': [('llega', 96.5957724584105),\n  ('pelicula', 'Conjuro 3'),\n  ('num_boletos', 3),\n  ('sin_turno', 111.7919524788099)],\n 'David Sanders': [('llega', 97.68257571786846),\n  ('pelicula', 'Pulp Fiction'),\n  ('num_boletos', 6),\n  ('sin_turno', 118.2919524788099)],\n 'Daniel Stewart': [('llega', 97.73432262181618),\n  ('pelicula', 'Rapidos y Furiosos 10'),\n  ('num_boletos', 3),\n  ('sin_turno', 116.2919524788099)],\n 'Latoya Clark': [('llega', 98.40455111098441),\n  ('pelicula', 'Conjuro 3'),\n  ('num_boletos', 3),\n  ('sin_turno', 111.7919524788099)],\n 'Joshua Brown': [('llega', 98.56479209706619),\n  ('pelicula', 'Conjuro 3'),\n  ('num_boletos', 2),\n  ('sin_turno', 111.7919524788099)],\n 'Abigail Ferguson': [('llega', 99.09768874944542),\n  ('pelicula', 'Pulp Fiction'),\n  ('num_boletos', 3),\n  ('sin_turno', 118.2919524788099)],\n 'Joshua Lopez': [('llega', 99.51899689255177),\n  ('pelicula', 'Pulp Fiction'),\n  ('num_boletos', 1),\n  ('sin_turno', 118.2919524788099)],\n 'Jessica Hoffman': [('llega', 99.89402401258974),\n  ('pelicula', 'Rapidos y Furiosos 10'),\n  ('num_boletos', 3),\n  ('sin_turno', 116.2919524788099)],\n 'Dustin Wallace': [('llega', 101.41883724958527),\n  ('pelicula', 'Rapidos y Furiosos 10'),\n  ('num_boletos', 4),\n  ('sin_turno', 116.2919524788099)],\n 'Ashlee Lee': [('llega', 102.87435873621251),\n  ('pelicula', 'Rapidos y Furiosos 10'),\n  ('num_boletos', 2),\n  ('sin_turno', 116.2919524788099)],\n 'Kristen Cortez': [('llega', 102.89735892546838),\n  ('pelicula', 'Pulp Fiction'),\n  ('num_boletos', 4),\n  ('sin_turno', 118.2919524788099)],\n 'Matthew Mendoza': [('llega', 103.95103773563608),\n  ('pelicula', 'Pulp Fiction'),\n  ('num_boletos', 2),\n  ('sin_turno', 118.2919524788099)],\n 'Meredith Ortega': [('llega', 103.95387861095281),\n  ('pelicula', 'Conjuro 3'),\n  ('num_boletos', 2),\n  ('sin_turno', 111.7919524788099)],\n 'Charles Chapman': [('llega', 104.79168022958021),\n  ('pelicula', 'Rapidos y Furiosos 10'),\n  ('num_boletos', 2),\n  ('sin_turno', 116.2919524788099)],\n 'Allison Powell': [('llega', 105.87132393925125),\n  ('pelicula', 'Rapidos y Furiosos 10'),\n  ('num_boletos', 1),\n  ('sin_turno', 116.2919524788099)],\n 'Jennifer Fuller PhD': [('llega', 105.91609705616382),\n  ('pelicula', 'Conjuro 3'),\n  ('num_boletos', 3),\n  ('sin_turno', 111.7919524788099)],\n 'Jason Clark': [('llega', 105.92319478837787),\n  ('pelicula', 'Rapidos y Furiosos 10'),\n  ('num_boletos', 2),\n  ('sin_turno', 116.2919524788099)],\n 'Jennifer Bruce': [('llega', 106.22331015545883),\n  ('pelicula', 'Conjuro 3'),\n  ('num_boletos', 2),\n  ('sin_turno', 111.7919524788099)],\n 'Amanda Anderson': [('llega', 107.65951497739219),\n  ('pelicula', 'Conjuro 3'),\n  ('num_boletos', 2),\n  ('sin_turno', 111.7919524788099)],\n 'Donald Underwood': [('llega', 108.15926234745554),\n  ('pelicula', 'Rapidos y Furiosos 10'),\n  ('num_boletos', 3),\n  ('sin_turno', 116.2919524788099)],\n 'Angela Vargas': [('llega', 108.23602603088497),\n  ('pelicula', 'Conjuro 3'),\n  ('num_boletos', 5),\n  ('sin_turno', 111.7919524788099)],\n 'Jason Rojas': [('llega', 109.87715518096144),\n  ('pelicula', 'Conjuro 3'),\n  ('num_boletos', 4),\n  ('sin_turno', 111.7919524788099)],\n 'Brian Wolf': [('llega', 110.17965581507201),\n  ('pelicula', 'Conjuro 3'),\n  ('num_boletos', 3),\n  ('sin_turno', 111.7919524788099)],\n 'Melissa Cooke': [('llega', 110.2621820025977),\n  ('pelicula', 'Conjuro 3'),\n  ('num_boletos', 1),\n  ('sin_turno', 111.7919524788099)],\n 'Toni Good': [('llega', 110.51010945440193),\n  ('pelicula', 'Conjuro 3'),\n  ('num_boletos', 3),\n  ('sin_turno', 111.7919524788099)],\n 'Sean Brown': [('llega', 111.99227878285707),\n  ('pelicula', 'Conjuro 3'),\n  ('num_boletos', 3)],\n 'Mary Hernandez': [('llega', 112.24675573179523),\n  ('pelicula', 'Rapidos y Furiosos 10'),\n  ('num_boletos', 2),\n  ('sin_turno', 116.2919524788099)],\n 'Danielle Stone': [('llega', 112.48097415441143),\n  ('pelicula', 'Pulp Fiction'),\n  ('num_boletos', 1),\n  ('sin_turno', 118.2919524788099)],\n 'Garrett Gonzalez': [('llega', 112.52632991565545),\n  ('pelicula', 'Pulp Fiction'),\n  ('num_boletos', 2),\n  ('sin_turno', 118.2919524788099)],\n 'Isaac Adkins': [('llega', 113.0604497357827),\n  ('pelicula', 'Rapidos y Furiosos 10'),\n  ('num_boletos', 3),\n  ('sin_turno', 116.2919524788099)],\n 'Margaret Rivera': [('llega', 113.52857629919262),\n  ('pelicula', 'Rapidos y Furiosos 10'),\n  ('num_boletos', 5),\n  ('sin_turno', 116.2919524788099)],\n 'Mr. Robert Mccullough': [('llega', 113.56550833181372),\n  ('pelicula', 'Pulp Fiction'),\n  ('num_boletos', 2),\n  ('sin_turno', 118.2919524788099)],\n 'Brandi West': [('llega', 113.86927051244795),\n  ('pelicula', 'Conjuro 3'),\n  ('num_boletos', 2)],\n 'Dave Roberts': [('llega', 114.06356397662974),\n  ('pelicula', 'Rapidos y Furiosos 10'),\n  ('num_boletos', 4),\n  ('sin_turno', 116.2919524788099)],\n 'Brett Sullivan': [('llega', 114.15444263556348),\n  ('pelicula', 'Rapidos y Furiosos 10'),\n  ('num_boletos', 1),\n  ('sin_turno', 116.2919524788099)],\n 'Kathy Grant': [('llega', 114.75248249078643),\n  ('pelicula', 'Pulp Fiction'),\n  ('num_boletos', 3),\n  ('sin_turno', 118.2919524788099)],\n 'Billy Keller': [('llega', 115.24646289613852),\n  ('pelicula', 'Conjuro 3'),\n  ('num_boletos', 5)],\n 'Yolanda Martin': [('llega', 115.72290556322521),\n  ('pelicula', 'Rapidos y Furiosos 10'),\n  ('num_boletos', 3),\n  ('sin_turno', 116.2919524788099)],\n 'Douglas Short': [('llega', 116.14455087561929),\n  ('pelicula', 'Rapidos y Furiosos 10'),\n  ('num_boletos', 5),\n  ('sin_turno', 116.2919524788099)],\n 'Brandy Scott': [('llega', 118.22283112676735),\n  ('pelicula', 'Conjuro 3'),\n  ('num_boletos', 4)],\n 'John Taylor': [('llega', 118.23728671678535),\n  ('pelicula', 'Rapidos y Furiosos 10'),\n  ('num_boletos', 4)],\n 'Christina Adams': [('llega', 118.51240600167483),\n  ('pelicula', 'Conjuro 3'),\n  ('num_boletos', 6)],\n 'Mrs. Lisa Davis': [('llega', 118.6143430918159),\n  ('pelicula', 'Rapidos y Furiosos 10'),\n  ('num_boletos', 6)],\n 'Connor Harrison': []}"
     },
     "execution_count": 37,
     "metadata": {},
     "output_type": "execute_result"
    }
   ],
   "source": [
    "acciones_individuales"
   ],
   "metadata": {
    "collapsed": false,
    "pycharm": {
     "name": "#%%\n"
    }
   }
  },
  {
   "cell_type": "code",
   "execution_count": 38,
   "outputs": [],
   "source": [
    "from copy import copy"
   ],
   "metadata": {
    "collapsed": false,
    "pycharm": {
     "name": "#%%\n"
    }
   }
  },
  {
   "cell_type": "code",
   "execution_count": 68,
   "outputs": [],
   "source": [
    "from tkinter import *\n",
    "from tkinter import messagebox\n",
    "from PIL import Image, ImageTk\n",
    "from threading import Thread\n",
    "\n",
    "window = Tk()\n",
    "\n",
    "cash_machine = ImageTk.PhotoImage(Image.open('/home/leo/Descargas/CASH.png'))\n",
    "client = ImageTk.PhotoImage(Image.open('/home/leo/Descargas/persona.png'))\n",
    "\n",
    "generate_cliente = lambda : ImageTk.PhotoImage(Image.open('/home/leo/Descargas/persona.png'))\n",
    "\n",
    "lbl_cash_machine = Label(image=cash_machine)\n",
    "lbl_cash_machine.place(relx=0.90, rely=0.5)\n",
    "\n",
    "\n",
    "def llamar_clientes():\n",
    "\n",
    "    def generar_sprite(lbl_client):\n",
    "        lbl_client.place(x=10, rely=0.5)\n",
    "\n",
    "    def mover_hacia_caja(lbl_client):\n",
    "        for x in range(600):\n",
    "            lbl_client.place(x=x)\n",
    "            time.sleep(0.001)\n",
    "\n",
    "    def conseguir_turno(lbl_client, args):\n",
    "        logrado_filter = filter(lambda x: x[0]=='logrado', args[1])\n",
    "        renegado_filter = filter(lambda x: x[0]=='renegado', args[1])\n",
    "        def entrar(lbl_client):\n",
    "            pass\n",
    "\n",
    "        print(list(logrado_filter))\n",
    "        print(list(renegado_filter))\n",
    "        pass\n",
    "\n",
    "    def salir(lbl_client):\n",
    "        pass\n",
    "\n",
    "    def proceso(args):\n",
    "        client = ImageTk.PhotoImage(Image.open('/home/leo/Descargas/persona.png'))\n",
    "        lbl_client = Label(image=client)\n",
    "        generar_sprite(lbl_client)\n",
    "        #mover_hacia_caja(lbl_client)\n",
    "        #conseguir_turno(lbl_client, args)\n",
    "\n",
    "    #for key, value in acciones_individuales.items():\n",
    "    x = list(acciones_individuales.items())[0:3]\n",
    "    proceso(None)\n",
    "\n",
    "\n",
    "button = Button(master=window, command=llamar_clientes, text='Hola')\n",
    "button.pack()\n",
    "button.place(x=5, y=5)\n",
    "window.title('simu')\n",
    "window.geometry('800x600+10+20')\n",
    "window.mainloop()"
   ],
   "metadata": {
    "collapsed": false,
    "pycharm": {
     "name": "#%%\n"
    }
   }
  },
  {
   "cell_type": "code",
   "source": [
    "from pandas import DataFrame\n",
    "from pandas import read_csv\n",
    "\n",
    "import numpy\n",
    "import matplotlib.pyplot as plt\n",
    "data = read_csv('/home/leo/Descargas/leo.csv')\n"
   ],
   "metadata": {
    "collapsed": false,
    "pycharm": {
     "name": "#%%\n"
    }
   },
   "execution_count": 88,
   "outputs": []
  },
  {
   "cell_type": "code",
   "execution_count": 99,
   "outputs": [
    {
     "data": {
      "text/plain": "<Figure size 432x288 with 1 Axes>",
      "image/png": "[encoded data removed]"
     },
     "metadata": {
      "needs_background": "light"
     },
     "output_type": "display_data"
    }
   ],
   "source": [
    "x= [float(x) for x in list(data.trimestre)]\n",
    "y= [float(x) for x in list(data.total)]\n",
    "\n",
    "mymodel = numpy.poly1d(numpy.polyfit(x, y, 3))\n",
    "\n",
    "myline = numpy.linspace(2005, 2020, 100)\n",
    "\n",
    "plt.scatter(x, y)\n",
    "plt.plot(myline, mymodel(myline))\n",
    "plt.show()"
   ],
   "metadata": {
    "collapsed": false,
    "pycharm": {
     "name": "#%%\n"
    }
   }
  }
 ],
 "metadata": {
  "kernelspec": {
   "display_name": "Python 3 (ipykernel)",
   "language": "python",
   "name": "python3"
  },
  "language_info": {
   "codemirror_mode": {
    "name": "ipython",
    "version": 3
   },
   "file_extension": ".py",
   "mimetype": "text/x-python",
   "name": "python",
   "nbconvert_exporter": "python",
   "pygments_lexer": "ipython3",
   "version": "3.10.5"
  }
 },
 "nbformat": 4,
 "nbformat_minor": 1
}