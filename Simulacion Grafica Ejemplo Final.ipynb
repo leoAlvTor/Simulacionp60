{
 "cells": [
  {
   "cell_type": "code",
   "execution_count": 42,
   "metadata": {
    "pycharm": {
     "name": "#%%\n"
    }
   },
   "outputs": [],
   "source": [
    "import collections\n",
    "import random\n",
    "import simpy"
   ]
  },
  {
   "cell_type": "code",
   "execution_count": 43,
   "metadata": {
    "pycharm": {
     "name": "#%%\n"
    }
   },
   "outputs": [],
   "source": [
    "NUM_BOLETO = 120\n",
    "TIEMPO_SIMULACION = 120"
   ]
  },
  {
   "cell_type": "code",
   "execution_count": 44,
   "metadata": {
    "pycharm": {
     "name": "#%%\n"
    }
   },
   "outputs": [],
   "source": [
    "acciones_globales = {}\n",
    "clientes = []\n",
    "\n",
    "class Cliente:\n",
    "\n",
    "  renegado: bool = False\n",
    "  pelicula: str = 'NA'\n",
    "  cantidad_boletos: int = 0\n",
    "  acciones: dict = {}\n",
    "\n",
    "  def __init__(self, genero):\n",
    "    self.genero = genero\n",
    "    pass\n",
    "\n",
    "  def __str__(self):\n",
    "    return  f'renegado {self.renegado}, pelicula {self.pelicula}, cantidad_boletos {self.cantidad_boletos}, acciones {self.acciones}'"
   ]
  },
  {
   "cell_type": "code",
   "execution_count": 48,
   "outputs": [
    {
     "name": "stdout",
     "output_type": "stream",
     "text": [
      "Teatro Carlos Crespi - UPS\n",
      "Pelicula: Conjuro 3 se agoto en el tiempo 94.4 despues de salir a la venta\n",
      "Numero de personas que salieron de la fila/renegados 31\n",
      "Pelicula: Rapidos y Furiosos 10 se agoto en el tiempo 95.4 despues de salir a la venta\n",
      "Numero de personas que salieron de la fila/renegados 29\n",
      "Pelicula: Pulp Fiction se agoto en el tiempo 88.9 despues de salir a la venta\n",
      "Numero de personas que salieron de la fila/renegados 34\n"
     ]
    }
   ],
   "source": [
    "def ventaBoletos(env, num_boletos, pelicula, teatro, cliente: Cliente):\n",
    "  with teatro.contador.request() as turno:\n",
    "    resultado = yield turno | teatro.sold_out[pelicula]\n",
    "\n",
    "    if turno not in resultado:\n",
    "      cliente.renegado = True\n",
    "      cliente.acciones['renegado'] = env.now\n",
    "      teatro.num_renegados[pelicula] += 1\n",
    "      return\n",
    "\n",
    "    if teatro.num_boletos[pelicula] < num_boletos:\n",
    "      yield env.timeout(0.5)\n",
    "      cliente.renegado = True\n",
    "      cliente.acciones['sin_turno'] = env.now\n",
    "      return\n",
    "    teatro.num_boletos[pelicula] -= num_boletos\n",
    "    if teatro.num_boletos[pelicula] < 2:\n",
    "      acciones_globales['fin_boletos'+pelicula] = env.now\n",
    "      teatro.sold_out[pelicula].succeed()\n",
    "      teatro.tiempo_agotado[pelicula] = env.now\n",
    "      teatro.num_boletos[pelicula] = 0\n",
    "    yield env.timeout(1)\n",
    "\n",
    "\n",
    "def llegadaClientes(env, teatro):\n",
    "  while True:\n",
    "    cliente = Cliente('NA')\n",
    "\n",
    "    yield env.timeout(random.expovariate(1/0.5))\n",
    "    pelicula = random.choice(teatro.peliculas)\n",
    "    num_boletos = random.randint(1, 6)\n",
    "\n",
    "    cliente.pelicula = pelicula\n",
    "    cliente.cantidad_boletos = num_boletos\n",
    "    cliente.acciones['llega'] = env.now\n",
    "\n",
    "    if teatro.num_boletos[pelicula]:\n",
    "      env.process(ventaBoletos(env, num_boletos, pelicula, teatro, cliente))\n",
    "      clientes.append(cliente)\n",
    "\n",
    "\n",
    "Teatro = collections.namedtuple('Teatro', 'contador, peliculas, num_boletos, sold_out, tiempo_agotado, num_renegados')\n",
    "\n",
    "print('Teatro Carlos Crespi - UPS')\n",
    "env = simpy.Environment()\n",
    "\n",
    "contador = simpy.Resource(env,capacity=1)\n",
    "peliculas = ['Conjuro 3', 'Rapidos y Furiosos 10', 'Pulp Fiction']\n",
    "num_boletos = {pelicula: NUM_BOLETO for pelicula in peliculas}\n",
    "sold_out = {pelicula: env.event() for pelicula in peliculas}\n",
    "tiempo_agotado = {pelicula: None for pelicula in peliculas}\n",
    "num_renegados = {pelicula: 0 for pelicula in peliculas}\n",
    "\n",
    "teatro = Teatro(contador, peliculas, num_boletos, sold_out, tiempo_agotado, num_renegados)\n",
    "env.process(llegadaClientes(env, teatro))\n",
    "env.run(until=TIEMPO_SIMULACION)\n",
    "\n",
    "# Analisis y resultados\n",
    "for pelicula in peliculas:\n",
    "  if teatro.sold_out[pelicula]:\n",
    "    print('Pelicula: %s se agoto en el tiempo %.1f despues de salir a la venta' %(pelicula, teatro.tiempo_agotado[pelicula]))\n",
    "    print('Numero de personas que salieron de la fila/renegados %s' %teatro.num_renegados[pelicula])"
   ],
   "metadata": {
    "collapsed": false,
    "pycharm": {
     "name": "#%%\n"
    }
   }
  },
  {
   "cell_type": "code",
   "execution_count": 46,
   "metadata": {
    "pycharm": {
     "name": "#%%\n"
    }
   },
   "outputs": [
    {
     "data": {
      "text/plain": "{'fin_boletosConjuro 3': 79.532115254801,\n 'fin_boletosPulp Fiction': 93.532115254801,\n 'fin_boletosRapidos y Furiosos 10': 101.532115254801}"
     },
     "execution_count": 46,
     "metadata": {},
     "output_type": "execute_result"
    }
   ],
   "source": [
    "acciones_globales"
   ]
  },
  {
   "cell_type": "code",
   "execution_count": 47,
   "outputs": [
    {
     "name": "stdout",
     "output_type": "stream",
     "text": [
      "renegado False, pelicula Rapidos y Furiosos 10, cantidad_boletos 3, acciones {'llega': 119.72845716071225, 'sin_turno': 77.532115254801, 'renegado': 101.532115254801}\n",
      "renegado False, pelicula Pulp Fiction, cantidad_boletos 2, acciones {'llega': 119.72845716071225, 'sin_turno': 77.532115254801, 'renegado': 101.532115254801}\n",
      "renegado False, pelicula Conjuro 3, cantidad_boletos 3, acciones {'llega': 119.72845716071225, 'sin_turno': 77.532115254801, 'renegado': 101.532115254801}\n",
      "renegado False, pelicula Rapidos y Furiosos 10, cantidad_boletos 1, acciones {'llega': 119.72845716071225, 'sin_turno': 77.532115254801, 'renegado': 101.532115254801}\n",
      "renegado False, pelicula Conjuro 3, cantidad_boletos 4, acciones {'llega': 119.72845716071225, 'sin_turno': 77.532115254801, 'renegado': 101.532115254801}\n",
      "renegado False, pelicula Rapidos y Furiosos 10, cantidad_boletos 4, acciones {'llega': 119.72845716071225, 'sin_turno': 77.532115254801, 'renegado': 101.532115254801}\n",
      "renegado False, pelicula Pulp Fiction, cantidad_boletos 1, acciones {'llega': 119.72845716071225, 'sin_turno': 77.532115254801, 'renegado': 101.532115254801}\n",
      "renegado False, pelicula Pulp Fiction, cantidad_boletos 1, acciones {'llega': 119.72845716071225, 'sin_turno': 77.532115254801, 'renegado': 101.532115254801}\n",
      "renegado False, pelicula Pulp Fiction, cantidad_boletos 1, acciones {'llega': 119.72845716071225, 'sin_turno': 77.532115254801, 'renegado': 101.532115254801}\n",
      "renegado False, pelicula Pulp Fiction, cantidad_boletos 5, acciones {'llega': 119.72845716071225, 'sin_turno': 77.532115254801, 'renegado': 101.532115254801}\n",
      "renegado False, pelicula Pulp Fiction, cantidad_boletos 2, acciones {'llega': 119.72845716071225, 'sin_turno': 77.532115254801, 'renegado': 101.532115254801}\n",
      "renegado False, pelicula Conjuro 3, cantidad_boletos 5, acciones {'llega': 119.72845716071225, 'sin_turno': 77.532115254801, 'renegado': 101.532115254801}\n",
      "renegado False, pelicula Conjuro 3, cantidad_boletos 5, acciones {'llega': 119.72845716071225, 'sin_turno': 77.532115254801, 'renegado': 101.532115254801}\n",
      "renegado False, pelicula Rapidos y Furiosos 10, cantidad_boletos 5, acciones {'llega': 119.72845716071225, 'sin_turno': 77.532115254801, 'renegado': 101.532115254801}\n",
      "renegado False, pelicula Conjuro 3, cantidad_boletos 1, acciones {'llega': 119.72845716071225, 'sin_turno': 77.532115254801, 'renegado': 101.532115254801}\n",
      "renegado False, pelicula Pulp Fiction, cantidad_boletos 3, acciones {'llega': 119.72845716071225, 'sin_turno': 77.532115254801, 'renegado': 101.532115254801}\n",
      "renegado False, pelicula Rapidos y Furiosos 10, cantidad_boletos 6, acciones {'llega': 119.72845716071225, 'sin_turno': 77.532115254801, 'renegado': 101.532115254801}\n",
      "renegado False, pelicula Pulp Fiction, cantidad_boletos 5, acciones {'llega': 119.72845716071225, 'sin_turno': 77.532115254801, 'renegado': 101.532115254801}\n",
      "renegado False, pelicula Conjuro 3, cantidad_boletos 6, acciones {'llega': 119.72845716071225, 'sin_turno': 77.532115254801, 'renegado': 101.532115254801}\n",
      "renegado False, pelicula Pulp Fiction, cantidad_boletos 3, acciones {'llega': 119.72845716071225, 'sin_turno': 77.532115254801, 'renegado': 101.532115254801}\n",
      "renegado False, pelicula Rapidos y Furiosos 10, cantidad_boletos 2, acciones {'llega': 119.72845716071225, 'sin_turno': 77.532115254801, 'renegado': 101.532115254801}\n",
      "renegado False, pelicula Pulp Fiction, cantidad_boletos 6, acciones {'llega': 119.72845716071225, 'sin_turno': 77.532115254801, 'renegado': 101.532115254801}\n",
      "renegado False, pelicula Rapidos y Furiosos 10, cantidad_boletos 1, acciones {'llega': 119.72845716071225, 'sin_turno': 77.532115254801, 'renegado': 101.532115254801}\n",
      "renegado False, pelicula Rapidos y Furiosos 10, cantidad_boletos 6, acciones {'llega': 119.72845716071225, 'sin_turno': 77.532115254801, 'renegado': 101.532115254801}\n",
      "renegado False, pelicula Conjuro 3, cantidad_boletos 3, acciones {'llega': 119.72845716071225, 'sin_turno': 77.532115254801, 'renegado': 101.532115254801}\n",
      "renegado False, pelicula Pulp Fiction, cantidad_boletos 4, acciones {'llega': 119.72845716071225, 'sin_turno': 77.532115254801, 'renegado': 101.532115254801}\n",
      "renegado False, pelicula Conjuro 3, cantidad_boletos 2, acciones {'llega': 119.72845716071225, 'sin_turno': 77.532115254801, 'renegado': 101.532115254801}\n",
      "renegado False, pelicula Pulp Fiction, cantidad_boletos 5, acciones {'llega': 119.72845716071225, 'sin_turno': 77.532115254801, 'renegado': 101.532115254801}\n",
      "renegado False, pelicula Conjuro 3, cantidad_boletos 2, acciones {'llega': 119.72845716071225, 'sin_turno': 77.532115254801, 'renegado': 101.532115254801}\n",
      "renegado False, pelicula Pulp Fiction, cantidad_boletos 2, acciones {'llega': 119.72845716071225, 'sin_turno': 77.532115254801, 'renegado': 101.532115254801}\n",
      "renegado False, pelicula Rapidos y Furiosos 10, cantidad_boletos 4, acciones {'llega': 119.72845716071225, 'sin_turno': 77.532115254801, 'renegado': 101.532115254801}\n",
      "renegado False, pelicula Conjuro 3, cantidad_boletos 5, acciones {'llega': 119.72845716071225, 'sin_turno': 77.532115254801, 'renegado': 101.532115254801}\n",
      "renegado False, pelicula Pulp Fiction, cantidad_boletos 3, acciones {'llega': 119.72845716071225, 'sin_turno': 77.532115254801, 'renegado': 101.532115254801}\n",
      "renegado False, pelicula Conjuro 3, cantidad_boletos 5, acciones {'llega': 119.72845716071225, 'sin_turno': 77.532115254801, 'renegado': 101.532115254801}\n",
      "renegado False, pelicula Rapidos y Furiosos 10, cantidad_boletos 5, acciones {'llega': 119.72845716071225, 'sin_turno': 77.532115254801, 'renegado': 101.532115254801}\n",
      "renegado False, pelicula Conjuro 3, cantidad_boletos 4, acciones {'llega': 119.72845716071225, 'sin_turno': 77.532115254801, 'renegado': 101.532115254801}\n",
      "renegado False, pelicula Conjuro 3, cantidad_boletos 5, acciones {'llega': 119.72845716071225, 'sin_turno': 77.532115254801, 'renegado': 101.532115254801}\n",
      "renegado False, pelicula Rapidos y Furiosos 10, cantidad_boletos 2, acciones {'llega': 119.72845716071225, 'sin_turno': 77.532115254801, 'renegado': 101.532115254801}\n",
      "renegado False, pelicula Conjuro 3, cantidad_boletos 3, acciones {'llega': 119.72845716071225, 'sin_turno': 77.532115254801, 'renegado': 101.532115254801}\n",
      "renegado False, pelicula Pulp Fiction, cantidad_boletos 3, acciones {'llega': 119.72845716071225, 'sin_turno': 77.532115254801, 'renegado': 101.532115254801}\n",
      "renegado False, pelicula Conjuro 3, cantidad_boletos 1, acciones {'llega': 119.72845716071225, 'sin_turno': 77.532115254801, 'renegado': 101.532115254801}\n",
      "renegado False, pelicula Rapidos y Furiosos 10, cantidad_boletos 3, acciones {'llega': 119.72845716071225, 'sin_turno': 77.532115254801, 'renegado': 101.532115254801}\n",
      "renegado False, pelicula Rapidos y Furiosos 10, cantidad_boletos 4, acciones {'llega': 119.72845716071225, 'sin_turno': 77.532115254801, 'renegado': 101.532115254801}\n",
      "renegado False, pelicula Rapidos y Furiosos 10, cantidad_boletos 1, acciones {'llega': 119.72845716071225, 'sin_turno': 77.532115254801, 'renegado': 101.532115254801}\n",
      "renegado False, pelicula Conjuro 3, cantidad_boletos 5, acciones {'llega': 119.72845716071225, 'sin_turno': 77.532115254801, 'renegado': 101.532115254801}\n",
      "renegado False, pelicula Conjuro 3, cantidad_boletos 3, acciones {'llega': 119.72845716071225, 'sin_turno': 77.532115254801, 'renegado': 101.532115254801}\n",
      "renegado False, pelicula Conjuro 3, cantidad_boletos 1, acciones {'llega': 119.72845716071225, 'sin_turno': 77.532115254801, 'renegado': 101.532115254801}\n",
      "renegado False, pelicula Rapidos y Furiosos 10, cantidad_boletos 1, acciones {'llega': 119.72845716071225, 'sin_turno': 77.532115254801, 'renegado': 101.532115254801}\n",
      "renegado False, pelicula Rapidos y Furiosos 10, cantidad_boletos 5, acciones {'llega': 119.72845716071225, 'sin_turno': 77.532115254801, 'renegado': 101.532115254801}\n",
      "renegado False, pelicula Conjuro 3, cantidad_boletos 4, acciones {'llega': 119.72845716071225, 'sin_turno': 77.532115254801, 'renegado': 101.532115254801}\n",
      "renegado False, pelicula Pulp Fiction, cantidad_boletos 6, acciones {'llega': 119.72845716071225, 'sin_turno': 77.532115254801, 'renegado': 101.532115254801}\n",
      "renegado False, pelicula Rapidos y Furiosos 10, cantidad_boletos 2, acciones {'llega': 119.72845716071225, 'sin_turno': 77.532115254801, 'renegado': 101.532115254801}\n",
      "renegado False, pelicula Conjuro 3, cantidad_boletos 2, acciones {'llega': 119.72845716071225, 'sin_turno': 77.532115254801, 'renegado': 101.532115254801}\n",
      "renegado False, pelicula Conjuro 3, cantidad_boletos 2, acciones {'llega': 119.72845716071225, 'sin_turno': 77.532115254801, 'renegado': 101.532115254801}\n",
      "renegado False, pelicula Pulp Fiction, cantidad_boletos 5, acciones {'llega': 119.72845716071225, 'sin_turno': 77.532115254801, 'renegado': 101.532115254801}\n",
      "renegado False, pelicula Conjuro 3, cantidad_boletos 6, acciones {'llega': 119.72845716071225, 'sin_turno': 77.532115254801, 'renegado': 101.532115254801}\n",
      "renegado False, pelicula Pulp Fiction, cantidad_boletos 1, acciones {'llega': 119.72845716071225, 'sin_turno': 77.532115254801, 'renegado': 101.532115254801}\n",
      "renegado False, pelicula Pulp Fiction, cantidad_boletos 4, acciones {'llega': 119.72845716071225, 'sin_turno': 77.532115254801, 'renegado': 101.532115254801}\n",
      "renegado False, pelicula Pulp Fiction, cantidad_boletos 5, acciones {'llega': 119.72845716071225, 'sin_turno': 77.532115254801, 'renegado': 101.532115254801}\n",
      "renegado False, pelicula Conjuro 3, cantidad_boletos 6, acciones {'llega': 119.72845716071225, 'sin_turno': 77.532115254801, 'renegado': 101.532115254801}\n",
      "renegado False, pelicula Rapidos y Furiosos 10, cantidad_boletos 4, acciones {'llega': 119.72845716071225, 'sin_turno': 77.532115254801, 'renegado': 101.532115254801}\n",
      "renegado False, pelicula Pulp Fiction, cantidad_boletos 6, acciones {'llega': 119.72845716071225, 'sin_turno': 77.532115254801, 'renegado': 101.532115254801}\n",
      "renegado False, pelicula Conjuro 3, cantidad_boletos 4, acciones {'llega': 119.72845716071225, 'sin_turno': 77.532115254801, 'renegado': 101.532115254801}\n",
      "renegado False, pelicula Rapidos y Furiosos 10, cantidad_boletos 3, acciones {'llega': 119.72845716071225, 'sin_turno': 77.532115254801, 'renegado': 101.532115254801}\n",
      "renegado False, pelicula Conjuro 3, cantidad_boletos 6, acciones {'llega': 119.72845716071225, 'sin_turno': 77.532115254801, 'renegado': 101.532115254801}\n",
      "renegado False, pelicula Rapidos y Furiosos 10, cantidad_boletos 5, acciones {'llega': 119.72845716071225, 'sin_turno': 77.532115254801, 'renegado': 101.532115254801}\n",
      "renegado False, pelicula Conjuro 3, cantidad_boletos 5, acciones {'llega': 119.72845716071225, 'sin_turno': 77.532115254801, 'renegado': 101.532115254801}\n",
      "renegado False, pelicula Pulp Fiction, cantidad_boletos 5, acciones {'llega': 119.72845716071225, 'sin_turno': 77.532115254801, 'renegado': 101.532115254801}\n",
      "renegado False, pelicula Pulp Fiction, cantidad_boletos 4, acciones {'llega': 119.72845716071225, 'sin_turno': 77.532115254801, 'renegado': 101.532115254801}\n",
      "renegado False, pelicula Conjuro 3, cantidad_boletos 4, acciones {'llega': 119.72845716071225, 'sin_turno': 77.532115254801, 'renegado': 101.532115254801}\n",
      "renegado False, pelicula Pulp Fiction, cantidad_boletos 1, acciones {'llega': 119.72845716071225, 'sin_turno': 77.532115254801, 'renegado': 101.532115254801}\n",
      "renegado False, pelicula Conjuro 3, cantidad_boletos 5, acciones {'llega': 119.72845716071225, 'sin_turno': 77.532115254801, 'renegado': 101.532115254801}\n",
      "renegado False, pelicula Pulp Fiction, cantidad_boletos 3, acciones {'llega': 119.72845716071225, 'sin_turno': 77.532115254801, 'renegado': 101.532115254801}\n",
      "renegado False, pelicula Conjuro 3, cantidad_boletos 3, acciones {'llega': 119.72845716071225, 'sin_turno': 77.532115254801, 'renegado': 101.532115254801}\n",
      "renegado False, pelicula Conjuro 3, cantidad_boletos 4, acciones {'llega': 119.72845716071225, 'sin_turno': 77.532115254801, 'renegado': 101.532115254801}\n",
      "renegado False, pelicula Conjuro 3, cantidad_boletos 3, acciones {'llega': 119.72845716071225, 'sin_turno': 77.532115254801, 'renegado': 101.532115254801}\n",
      "renegado False, pelicula Pulp Fiction, cantidad_boletos 6, acciones {'llega': 119.72845716071225, 'sin_turno': 77.532115254801, 'renegado': 101.532115254801}\n",
      "renegado True, pelicula Conjuro 3, cantidad_boletos 5, acciones {'llega': 119.72845716071225, 'sin_turno': 77.532115254801, 'renegado': 101.532115254801}\n",
      "renegado False, pelicula Pulp Fiction, cantidad_boletos 3, acciones {'llega': 119.72845716071225, 'sin_turno': 77.532115254801, 'renegado': 101.532115254801}\n",
      "renegado False, pelicula Pulp Fiction, cantidad_boletos 1, acciones {'llega': 119.72845716071225, 'sin_turno': 77.532115254801, 'renegado': 101.532115254801}\n",
      "renegado False, pelicula Conjuro 3, cantidad_boletos 3, acciones {'llega': 119.72845716071225, 'sin_turno': 77.532115254801, 'renegado': 101.532115254801}\n",
      "renegado False, pelicula Pulp Fiction, cantidad_boletos 1, acciones {'llega': 119.72845716071225, 'sin_turno': 77.532115254801, 'renegado': 101.532115254801}\n",
      "renegado False, pelicula Pulp Fiction, cantidad_boletos 4, acciones {'llega': 119.72845716071225, 'sin_turno': 77.532115254801, 'renegado': 101.532115254801}\n",
      "renegado True, pelicula Conjuro 3, cantidad_boletos 4, acciones {'llega': 119.72845716071225, 'sin_turno': 77.532115254801, 'renegado': 101.532115254801}\n",
      "renegado False, pelicula Pulp Fiction, cantidad_boletos 6, acciones {'llega': 119.72845716071225, 'sin_turno': 77.532115254801, 'renegado': 101.532115254801}\n",
      "renegado False, pelicula Rapidos y Furiosos 10, cantidad_boletos 5, acciones {'llega': 119.72845716071225, 'sin_turno': 77.532115254801, 'renegado': 101.532115254801}\n",
      "renegado False, pelicula Rapidos y Furiosos 10, cantidad_boletos 6, acciones {'llega': 119.72845716071225, 'sin_turno': 77.532115254801, 'renegado': 101.532115254801}\n",
      "renegado False, pelicula Rapidos y Furiosos 10, cantidad_boletos 6, acciones {'llega': 119.72845716071225, 'sin_turno': 77.532115254801, 'renegado': 101.532115254801}\n",
      "renegado True, pelicula Conjuro 3, cantidad_boletos 6, acciones {'llega': 119.72845716071225, 'sin_turno': 77.532115254801, 'renegado': 101.532115254801}\n",
      "renegado True, pelicula Conjuro 3, cantidad_boletos 6, acciones {'llega': 119.72845716071225, 'sin_turno': 77.532115254801, 'renegado': 101.532115254801}\n",
      "renegado True, pelicula Conjuro 3, cantidad_boletos 3, acciones {'llega': 119.72845716071225, 'sin_turno': 77.532115254801, 'renegado': 101.532115254801}\n",
      "renegado True, pelicula Conjuro 3, cantidad_boletos 1, acciones {'llega': 119.72845716071225, 'sin_turno': 77.532115254801, 'renegado': 101.532115254801}\n",
      "renegado False, pelicula Rapidos y Furiosos 10, cantidad_boletos 4, acciones {'llega': 119.72845716071225, 'sin_turno': 77.532115254801, 'renegado': 101.532115254801}\n",
      "renegado False, pelicula Rapidos y Furiosos 10, cantidad_boletos 1, acciones {'llega': 119.72845716071225, 'sin_turno': 77.532115254801, 'renegado': 101.532115254801}\n",
      "renegado False, pelicula Rapidos y Furiosos 10, cantidad_boletos 5, acciones {'llega': 119.72845716071225, 'sin_turno': 77.532115254801, 'renegado': 101.532115254801}\n",
      "renegado True, pelicula Conjuro 3, cantidad_boletos 3, acciones {'llega': 119.72845716071225, 'sin_turno': 77.532115254801, 'renegado': 101.532115254801}\n",
      "renegado False, pelicula Pulp Fiction, cantidad_boletos 3, acciones {'llega': 119.72845716071225, 'sin_turno': 77.532115254801, 'renegado': 101.532115254801}\n",
      "renegado False, pelicula Pulp Fiction, cantidad_boletos 4, acciones {'llega': 119.72845716071225, 'sin_turno': 77.532115254801, 'renegado': 101.532115254801}\n",
      "renegado False, pelicula Rapidos y Furiosos 10, cantidad_boletos 1, acciones {'llega': 119.72845716071225, 'sin_turno': 77.532115254801, 'renegado': 101.532115254801}\n",
      "renegado True, pelicula Conjuro 3, cantidad_boletos 2, acciones {'llega': 119.72845716071225, 'sin_turno': 77.532115254801, 'renegado': 101.532115254801}\n",
      "renegado False, pelicula Pulp Fiction, cantidad_boletos 3, acciones {'llega': 119.72845716071225, 'sin_turno': 77.532115254801, 'renegado': 101.532115254801}\n",
      "renegado False, pelicula Pulp Fiction, cantidad_boletos 3, acciones {'llega': 119.72845716071225, 'sin_turno': 77.532115254801, 'renegado': 101.532115254801}\n",
      "renegado True, pelicula Conjuro 3, cantidad_boletos 1, acciones {'llega': 119.72845716071225, 'sin_turno': 77.532115254801, 'renegado': 101.532115254801}\n",
      "renegado True, pelicula Pulp Fiction, cantidad_boletos 5, acciones {'llega': 119.72845716071225, 'sin_turno': 77.532115254801, 'renegado': 101.532115254801}\n",
      "renegado False, pelicula Rapidos y Furiosos 10, cantidad_boletos 2, acciones {'llega': 119.72845716071225, 'sin_turno': 77.532115254801, 'renegado': 101.532115254801}\n",
      "renegado True, pelicula Conjuro 3, cantidad_boletos 4, acciones {'llega': 119.72845716071225, 'sin_turno': 77.532115254801, 'renegado': 101.532115254801}\n",
      "renegado True, pelicula Conjuro 3, cantidad_boletos 1, acciones {'llega': 119.72845716071225, 'sin_turno': 77.532115254801, 'renegado': 101.532115254801}\n",
      "renegado True, pelicula Pulp Fiction, cantidad_boletos 2, acciones {'llega': 119.72845716071225, 'sin_turno': 77.532115254801, 'renegado': 101.532115254801}\n",
      "renegado True, pelicula Pulp Fiction, cantidad_boletos 3, acciones {'llega': 119.72845716071225, 'sin_turno': 77.532115254801, 'renegado': 101.532115254801}\n",
      "renegado True, pelicula Conjuro 3, cantidad_boletos 4, acciones {'llega': 119.72845716071225, 'sin_turno': 77.532115254801, 'renegado': 101.532115254801}\n",
      "renegado True, pelicula Conjuro 3, cantidad_boletos 3, acciones {'llega': 119.72845716071225, 'sin_turno': 77.532115254801, 'renegado': 101.532115254801}\n",
      "renegado False, pelicula Rapidos y Furiosos 10, cantidad_boletos 2, acciones {'llega': 119.72845716071225, 'sin_turno': 77.532115254801, 'renegado': 101.532115254801}\n",
      "renegado True, pelicula Pulp Fiction, cantidad_boletos 1, acciones {'llega': 119.72845716071225, 'sin_turno': 77.532115254801, 'renegado': 101.532115254801}\n",
      "renegado True, pelicula Pulp Fiction, cantidad_boletos 1, acciones {'llega': 119.72845716071225, 'sin_turno': 77.532115254801, 'renegado': 101.532115254801}\n",
      "renegado False, pelicula Rapidos y Furiosos 10, cantidad_boletos 5, acciones {'llega': 119.72845716071225, 'sin_turno': 77.532115254801, 'renegado': 101.532115254801}\n",
      "renegado True, pelicula Conjuro 3, cantidad_boletos 5, acciones {'llega': 119.72845716071225, 'sin_turno': 77.532115254801, 'renegado': 101.532115254801}\n",
      "renegado True, pelicula Conjuro 3, cantidad_boletos 3, acciones {'llega': 119.72845716071225, 'sin_turno': 77.532115254801, 'renegado': 101.532115254801}\n",
      "renegado False, pelicula Rapidos y Furiosos 10, cantidad_boletos 6, acciones {'llega': 119.72845716071225, 'sin_turno': 77.532115254801, 'renegado': 101.532115254801}\n",
      "renegado True, pelicula Pulp Fiction, cantidad_boletos 3, acciones {'llega': 119.72845716071225, 'sin_turno': 77.532115254801, 'renegado': 101.532115254801}\n",
      "renegado False, pelicula Rapidos y Furiosos 10, cantidad_boletos 2, acciones {'llega': 119.72845716071225, 'sin_turno': 77.532115254801, 'renegado': 101.532115254801}\n",
      "renegado True, pelicula Conjuro 3, cantidad_boletos 2, acciones {'llega': 119.72845716071225, 'sin_turno': 77.532115254801, 'renegado': 101.532115254801}\n",
      "renegado True, pelicula Conjuro 3, cantidad_boletos 2, acciones {'llega': 119.72845716071225, 'sin_turno': 77.532115254801, 'renegado': 101.532115254801}\n",
      "renegado True, pelicula Conjuro 3, cantidad_boletos 2, acciones {'llega': 119.72845716071225, 'sin_turno': 77.532115254801, 'renegado': 101.532115254801}\n",
      "renegado True, pelicula Pulp Fiction, cantidad_boletos 6, acciones {'llega': 119.72845716071225, 'sin_turno': 77.532115254801, 'renegado': 101.532115254801}\n",
      "renegado False, pelicula Rapidos y Furiosos 10, cantidad_boletos 2, acciones {'llega': 119.72845716071225, 'sin_turno': 77.532115254801, 'renegado': 101.532115254801}\n",
      "renegado True, pelicula Conjuro 3, cantidad_boletos 3, acciones {'llega': 119.72845716071225, 'sin_turno': 77.532115254801, 'renegado': 101.532115254801}\n",
      "renegado True, pelicula Pulp Fiction, cantidad_boletos 5, acciones {'llega': 119.72845716071225, 'sin_turno': 77.532115254801, 'renegado': 101.532115254801}\n",
      "renegado False, pelicula Rapidos y Furiosos 10, cantidad_boletos 2, acciones {'llega': 119.72845716071225, 'sin_turno': 77.532115254801, 'renegado': 101.532115254801}\n",
      "renegado False, pelicula Rapidos y Furiosos 10, cantidad_boletos 4, acciones {'llega': 119.72845716071225, 'sin_turno': 77.532115254801, 'renegado': 101.532115254801}\n",
      "renegado True, pelicula Rapidos y Furiosos 10, cantidad_boletos 2, acciones {'llega': 119.72845716071225, 'sin_turno': 77.532115254801, 'renegado': 101.532115254801}\n",
      "renegado True, pelicula Pulp Fiction, cantidad_boletos 3, acciones {'llega': 119.72845716071225, 'sin_turno': 77.532115254801, 'renegado': 101.532115254801}\n",
      "renegado True, pelicula Pulp Fiction, cantidad_boletos 6, acciones {'llega': 119.72845716071225, 'sin_turno': 77.532115254801, 'renegado': 101.532115254801}\n",
      "renegado True, pelicula Rapidos y Furiosos 10, cantidad_boletos 3, acciones {'llega': 119.72845716071225, 'sin_turno': 77.532115254801, 'renegado': 101.532115254801}\n",
      "renegado True, pelicula Conjuro 3, cantidad_boletos 2, acciones {'llega': 119.72845716071225, 'sin_turno': 77.532115254801, 'renegado': 101.532115254801}\n",
      "renegado True, pelicula Conjuro 3, cantidad_boletos 1, acciones {'llega': 119.72845716071225, 'sin_turno': 77.532115254801, 'renegado': 101.532115254801}\n",
      "renegado True, pelicula Pulp Fiction, cantidad_boletos 4, acciones {'llega': 119.72845716071225, 'sin_turno': 77.532115254801, 'renegado': 101.532115254801}\n",
      "renegado True, pelicula Pulp Fiction, cantidad_boletos 3, acciones {'llega': 119.72845716071225, 'sin_turno': 77.532115254801, 'renegado': 101.532115254801}\n",
      "renegado True, pelicula Conjuro 3, cantidad_boletos 1, acciones {'llega': 119.72845716071225, 'sin_turno': 77.532115254801, 'renegado': 101.532115254801}\n",
      "renegado True, pelicula Rapidos y Furiosos 10, cantidad_boletos 6, acciones {'llega': 119.72845716071225, 'sin_turno': 77.532115254801, 'renegado': 101.532115254801}\n",
      "renegado True, pelicula Conjuro 3, cantidad_boletos 4, acciones {'llega': 119.72845716071225, 'sin_turno': 77.532115254801, 'renegado': 101.532115254801}\n",
      "renegado True, pelicula Pulp Fiction, cantidad_boletos 5, acciones {'llega': 119.72845716071225, 'sin_turno': 77.532115254801, 'renegado': 101.532115254801}\n",
      "renegado True, pelicula Conjuro 3, cantidad_boletos 6, acciones {'llega': 119.72845716071225, 'sin_turno': 77.532115254801, 'renegado': 101.532115254801}\n",
      "renegado True, pelicula Conjuro 3, cantidad_boletos 3, acciones {'llega': 119.72845716071225, 'sin_turno': 77.532115254801, 'renegado': 101.532115254801}\n",
      "renegado True, pelicula Conjuro 3, cantidad_boletos 4, acciones {'llega': 119.72845716071225, 'sin_turno': 77.532115254801, 'renegado': 101.532115254801}\n",
      "renegado True, pelicula Conjuro 3, cantidad_boletos 1, acciones {'llega': 119.72845716071225, 'sin_turno': 77.532115254801, 'renegado': 101.532115254801}\n",
      "renegado True, pelicula Rapidos y Furiosos 10, cantidad_boletos 6, acciones {'llega': 119.72845716071225, 'sin_turno': 77.532115254801, 'renegado': 101.532115254801}\n",
      "renegado True, pelicula Rapidos y Furiosos 10, cantidad_boletos 6, acciones {'llega': 119.72845716071225, 'sin_turno': 77.532115254801, 'renegado': 101.532115254801}\n",
      "renegado True, pelicula Rapidos y Furiosos 10, cantidad_boletos 2, acciones {'llega': 119.72845716071225, 'sin_turno': 77.532115254801, 'renegado': 101.532115254801}\n",
      "renegado True, pelicula Pulp Fiction, cantidad_boletos 1, acciones {'llega': 119.72845716071225, 'sin_turno': 77.532115254801, 'renegado': 101.532115254801}\n",
      "renegado True, pelicula Rapidos y Furiosos 10, cantidad_boletos 2, acciones {'llega': 119.72845716071225, 'sin_turno': 77.532115254801, 'renegado': 101.532115254801}\n",
      "renegado True, pelicula Conjuro 3, cantidad_boletos 6, acciones {'llega': 119.72845716071225, 'sin_turno': 77.532115254801, 'renegado': 101.532115254801}\n",
      "renegado True, pelicula Pulp Fiction, cantidad_boletos 3, acciones {'llega': 119.72845716071225, 'sin_turno': 77.532115254801, 'renegado': 101.532115254801}\n",
      "renegado True, pelicula Rapidos y Furiosos 10, cantidad_boletos 6, acciones {'llega': 119.72845716071225, 'sin_turno': 77.532115254801, 'renegado': 101.532115254801}\n",
      "renegado True, pelicula Pulp Fiction, cantidad_boletos 5, acciones {'llega': 119.72845716071225, 'sin_turno': 77.532115254801, 'renegado': 101.532115254801}\n",
      "renegado True, pelicula Rapidos y Furiosos 10, cantidad_boletos 5, acciones {'llega': 119.72845716071225, 'sin_turno': 77.532115254801, 'renegado': 101.532115254801}\n",
      "renegado True, pelicula Rapidos y Furiosos 10, cantidad_boletos 6, acciones {'llega': 119.72845716071225, 'sin_turno': 77.532115254801, 'renegado': 101.532115254801}\n",
      "renegado True, pelicula Rapidos y Furiosos 10, cantidad_boletos 4, acciones {'llega': 119.72845716071225, 'sin_turno': 77.532115254801, 'renegado': 101.532115254801}\n",
      "renegado True, pelicula Rapidos y Furiosos 10, cantidad_boletos 3, acciones {'llega': 119.72845716071225, 'sin_turno': 77.532115254801, 'renegado': 101.532115254801}\n",
      "renegado True, pelicula Rapidos y Furiosos 10, cantidad_boletos 2, acciones {'llega': 119.72845716071225, 'sin_turno': 77.532115254801, 'renegado': 101.532115254801}\n",
      "renegado True, pelicula Pulp Fiction, cantidad_boletos 1, acciones {'llega': 119.72845716071225, 'sin_turno': 77.532115254801, 'renegado': 101.532115254801}\n",
      "renegado True, pelicula Rapidos y Furiosos 10, cantidad_boletos 6, acciones {'llega': 119.72845716071225, 'sin_turno': 77.532115254801, 'renegado': 101.532115254801}\n",
      "renegado True, pelicula Pulp Fiction, cantidad_boletos 4, acciones {'llega': 119.72845716071225, 'sin_turno': 77.532115254801, 'renegado': 101.532115254801}\n",
      "renegado True, pelicula Pulp Fiction, cantidad_boletos 6, acciones {'llega': 119.72845716071225, 'sin_turno': 77.532115254801, 'renegado': 101.532115254801}\n",
      "renegado True, pelicula Pulp Fiction, cantidad_boletos 2, acciones {'llega': 119.72845716071225, 'sin_turno': 77.532115254801, 'renegado': 101.532115254801}\n",
      "renegado True, pelicula Rapidos y Furiosos 10, cantidad_boletos 3, acciones {'llega': 119.72845716071225, 'sin_turno': 77.532115254801, 'renegado': 101.532115254801}\n",
      "renegado True, pelicula Pulp Fiction, cantidad_boletos 3, acciones {'llega': 119.72845716071225, 'sin_turno': 77.532115254801, 'renegado': 101.532115254801}\n",
      "renegado True, pelicula Rapidos y Furiosos 10, cantidad_boletos 2, acciones {'llega': 119.72845716071225, 'sin_turno': 77.532115254801, 'renegado': 101.532115254801}\n",
      "renegado True, pelicula Pulp Fiction, cantidad_boletos 4, acciones {'llega': 119.72845716071225, 'sin_turno': 77.532115254801, 'renegado': 101.532115254801}\n",
      "renegado True, pelicula Rapidos y Furiosos 10, cantidad_boletos 4, acciones {'llega': 119.72845716071225, 'sin_turno': 77.532115254801, 'renegado': 101.532115254801}\n",
      "renegado True, pelicula Rapidos y Furiosos 10, cantidad_boletos 4, acciones {'llega': 119.72845716071225, 'sin_turno': 77.532115254801, 'renegado': 101.532115254801}\n",
      "renegado True, pelicula Rapidos y Furiosos 10, cantidad_boletos 3, acciones {'llega': 119.72845716071225, 'sin_turno': 77.532115254801, 'renegado': 101.532115254801}\n",
      "renegado True, pelicula Rapidos y Furiosos 10, cantidad_boletos 5, acciones {'llega': 119.72845716071225, 'sin_turno': 77.532115254801, 'renegado': 101.532115254801}\n",
      "renegado True, pelicula Rapidos y Furiosos 10, cantidad_boletos 5, acciones {'llega': 119.72845716071225, 'sin_turno': 77.532115254801, 'renegado': 101.532115254801}\n",
      "renegado True, pelicula Rapidos y Furiosos 10, cantidad_boletos 5, acciones {'llega': 119.72845716071225, 'sin_turno': 77.532115254801, 'renegado': 101.532115254801}\n",
      "renegado True, pelicula Rapidos y Furiosos 10, cantidad_boletos 6, acciones {'llega': 119.72845716071225, 'sin_turno': 77.532115254801, 'renegado': 101.532115254801}\n",
      "renegado True, pelicula Rapidos y Furiosos 10, cantidad_boletos 3, acciones {'llega': 119.72845716071225, 'sin_turno': 77.532115254801, 'renegado': 101.532115254801}\n",
      "renegado True, pelicula Rapidos y Furiosos 10, cantidad_boletos 1, acciones {'llega': 119.72845716071225, 'sin_turno': 77.532115254801, 'renegado': 101.532115254801}\n"
     ]
    }
   ],
   "source": [
    "for x in clientes:\n",
    "  print(x)"
   ],
   "metadata": {
    "collapsed": false,
    "pycharm": {
     "name": "#%%\n"
    }
   }
  }
 ],
 "metadata": {
  "kernelspec": {
   "display_name": "Python 3 (ipykernel)",
   "language": "python",
   "name": "python3"
  },
  "language_info": {
   "codemirror_mode": {
    "name": "ipython",
    "version": 3
   },
   "file_extension": ".py",
   "mimetype": "text/x-python",
   "name": "python",
   "nbconvert_exporter": "python",
   "pygments_lexer": "ipython3",
   "version": "3.10.5"
  }
 },
 "nbformat": 4,
 "nbformat_minor": 1
}