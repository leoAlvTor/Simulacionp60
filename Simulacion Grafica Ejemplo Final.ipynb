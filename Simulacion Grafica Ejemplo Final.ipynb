{
 "cells": [
  {
   "cell_type": "code",
   "execution_count": 9,
   "metadata": {
    "pycharm": {
     "name": "#%%\n"
    }
   },
   "outputs": [],
   "source": [
    "import collections\n",
    "import random\n",
    "import sys\n",
    "import time\n",
    "\n",
    "import simpy\n",
    "from faker import Faker"
   ]
  },
  {
   "cell_type": "code",
   "execution_count": 10,
   "metadata": {
    "pycharm": {
     "name": "#%%\n"
    }
   },
   "outputs": [],
   "source": [
    "NUM_BOLETO = 120\n",
    "TIEMPO_SIMULACION = 120"
   ]
  },
  {
   "cell_type": "code",
   "execution_count": 11,
   "metadata": {
    "pycharm": {
     "name": "#%%\n"
    }
   },
   "outputs": [],
   "source": [
    "acciones_globales = {}\n",
    "acciones_individuales = {}\n",
    "clientes = []\n",
    "faker = Faker()\n",
    "\n",
    "\n",
    "class Cliente:\n",
    "    renegado: bool = False\n",
    "    pelicula: str = 'NA'\n",
    "    cantidad_boletos: int = 0\n",
    "    acciones: dict = {}\n",
    "\n",
    "    def __init__(self, nombre):\n",
    "        self.nombre = nombre\n",
    "        pass\n",
    "\n",
    "    def __str__(self):\n",
    "        return f'nombre: {self.nombre}, renegado {self.renegado}, pelicula {self.pelicula}, cantidad_boletos {self.cantidad_boletos}, acciones {self.acciones}'"
   ]
  },
  {
   "cell_type": "code",
   "execution_count": 12,
   "outputs": [
    {
     "name": "stdout",
     "output_type": "stream",
     "text": [
      "Teatro Carlos Crespi - UPS\n",
      "Pelicula: Conjuro 3 se agoto en el tiempo 91.8 despues de salir a la venta\n",
      "Numero de personas que salieron de la fila/renegados 23\n",
      "Pelicula: Rapidos y Furiosos 10 se agoto en el tiempo 96.3 despues de salir a la venta\n",
      "Numero de personas que salieron de la fila/renegados 26\n",
      "Pelicula: Pulp Fiction se agoto en el tiempo 105.3 despues de salir a la venta\n",
      "Numero de personas que salieron de la fila/renegados 31\n"
     ]
    }
   ],
   "source": [
    "def ventaBoletos(env, num_boletos, pelicula, teatro, name):\n",
    "    with teatro.contador.request() as turno:\n",
    "        resultado = yield turno | teatro.sold_out[pelicula]\n",
    "\n",
    "        if turno not in resultado:\n",
    "            acciones_individuales.get(name).append(('sin_turno', env.now))\n",
    "            teatro.num_renegados[pelicula] += 1\n",
    "            return\n",
    "\n",
    "        if teatro.num_boletos[pelicula] < num_boletos:\n",
    "            yield env.timeout(0.5)\n",
    "            acciones_individuales.get(name).append(('renegado', env.now))\n",
    "            return\n",
    "        teatro.num_boletos[pelicula] -= num_boletos\n",
    "        acciones_individuales.get(name).append(('logrado', env.now))\n",
    "        if teatro.num_boletos[pelicula] < 2:\n",
    "            acciones_globales['fin_boletos' + pelicula] = env.now\n",
    "            teatro.sold_out[pelicula].succeed()\n",
    "            teatro.tiempo_agotado[pelicula] = env.now\n",
    "            teatro.num_boletos[pelicula] = 0\n",
    "        yield env.timeout(1)\n",
    "\n",
    "\n",
    "def llegadaClientes(env, teatro):\n",
    "    while True:\n",
    "        name = faker.name()\n",
    "        acciones_individuales[name] = []\n",
    "\n",
    "        yield env.timeout(random.expovariate(1 / 0.5))\n",
    "        pelicula = random.choice(teatro.peliculas)\n",
    "        num_boletos = random.randint(1, 6)\n",
    "\n",
    "        acciones_individuales.get(name).append(('llega', env.now))\n",
    "        acciones_individuales.get(name).append(('pelicula', pelicula))\n",
    "        acciones_individuales.get(name).append(('num_boletos', num_boletos))\n",
    "\n",
    "        if teatro.num_boletos[pelicula]:\n",
    "            env.process(ventaBoletos(env, num_boletos, pelicula, teatro, name))\n",
    "        else:\n",
    "            acciones_individuales.get(name).append(('renegado', env.now))\n",
    "\n",
    "\n",
    "Teatro = collections.namedtuple('Teatro', 'contador, peliculas, num_boletos, sold_out, tiempo_agotado, num_renegados')\n",
    "\n",
    "print('Teatro Carlos Crespi - UPS')\n",
    "env = simpy.Environment()\n",
    "\n",
    "contador = simpy.Resource(env, capacity=1)\n",
    "peliculas = ['Conjuro 3', 'Rapidos y Furiosos 10', 'Pulp Fiction']\n",
    "num_boletos = {pelicula: NUM_BOLETO for pelicula in peliculas}\n",
    "sold_out = {pelicula: env.event() for pelicula in peliculas}\n",
    "tiempo_agotado = {pelicula: None for pelicula in peliculas}\n",
    "num_renegados = {pelicula: 0 for pelicula in peliculas}\n",
    "\n",
    "teatro = Teatro(contador, peliculas, num_boletos, sold_out, tiempo_agotado, num_renegados)\n",
    "env.process(llegadaClientes(env, teatro))\n",
    "env.run(until=TIEMPO_SIMULACION)\n",
    "\n",
    "# Analisis y resultados\n",
    "for pelicula in peliculas:\n",
    "    if teatro.sold_out[pelicula]:\n",
    "        print('Pelicula: %s se agoto en el tiempo %.1f despues de salir a la venta' % (\n",
    "        pelicula, teatro.tiempo_agotado[pelicula]))\n",
    "        print('Numero de personas que salieron de la fila/renegados %s' % teatro.num_renegados[pelicula])"
   ],
   "metadata": {
    "collapsed": false,
    "pycharm": {
     "name": "#%%\n"
    }
   }
  },
  {
   "cell_type": "code",
   "execution_count": 13,
   "outputs": [],
   "source": [
    "import pygame"
   ],
   "metadata": {
    "collapsed": false,
    "pycharm": {
     "name": "#%%\n"
    }
   }
  },
  {
   "cell_type": "code",
   "execution_count": 37,
   "outputs": [],
   "source": [
    "import pygame\n",
    "\n",
    "class TicketShop(pygame.sprite.Sprite):\n",
    "    def __init__(self):\n",
    "        super(TicketShop, self).__init__()\n",
    "        self.surf = pygame.image.load('ticketshop.jpg').convert()\n",
    "        self.rect = self.surf.get_rect(\n",
    "            center=(750, 300,)\n",
    "        )\n",
    "        self.speed = 1\n",
    "\n",
    "class Sprite(pygame.sprite.Sprite):\n",
    "    def __init__(self, estado):\n",
    "        self.estado = estado\n",
    "        super(Sprite, self).__init__()\n",
    "        self.surf = pygame.image.load('sprite.png').convert()\n",
    "        self.rect = self.surf.get_rect(\n",
    "            center=(-70, 300,)\n",
    "        )\n",
    "        self.speed = 1\n",
    "\n",
    "    def update(self):\n",
    "\n",
    "        if self.rect.y == 0 or self.rect.y > 800:\n",
    "            self.kill()\n",
    "\n",
    "        if self.estado == 'sin_turno' and self.rect.right > 200:\n",
    "            self.rect.move_ip(1, 1)\n",
    "            return\n",
    "        elif self.estado == 'renegado' and self.rect.right > 700:\n",
    "            self.surf = pygame.image.load('angry.png').convert()\n",
    "            self.rect.move_ip(0, 1)\n",
    "            return\n",
    "        elif self.estado == 'logrado' and self.rect.right > 700:\n",
    "            self.surf = pygame.image.load('ticket.png').convert()\n",
    "            self.rect.move_ip(0, -1)\n",
    "            return\n",
    "        self.rect.move_ip(1,0)\n",
    "\n",
    "\n",
    "pygame.init()\n",
    "\n",
    "screen = pygame.display.set_mode((800, 600))\n",
    "ADDCLIENT = pygame.USEREVENT + 1\n",
    "pygame.time.set_timer(ADDCLIENT, 650)\n",
    "\n",
    "all_sprites = pygame.sprite.Group()\n",
    "running = True\n",
    "clock = pygame.time.Clock()\n",
    "\n",
    "\n",
    "elements = list(acciones_individuales.values())\n",
    "index = 0\n",
    "\n",
    "while running:\n",
    "\n",
    "    if pygame.event.get(pygame.QUIT): break\n",
    "\n",
    "    for event in pygame.event.get():\n",
    "        if event.type == ADDCLIENT and len(elements[index]) > 0:\n",
    "            new_sprite = Sprite(elements[index][3][0])\n",
    "            all_sprites.add(new_sprite)\n",
    "            all_sprites.add(TicketShop())\n",
    "            index+=1\n",
    "\n",
    "    all_sprites.update()\n",
    "    screen.fill((0, 0, 0))\n",
    "\n",
    "    for entity in all_sprites:\n",
    "        screen.blit(entity.surf, entity.rect)\n",
    "\n",
    "    pygame.display.flip()\n",
    "    clock.tick(120)\n",
    "pygame.quit()"
   ],
   "metadata": {
    "collapsed": false,
    "pycharm": {
     "name": "#%%\n"
    }
   }
  }
 ],
 "metadata": {
  "kernelspec": {
   "display_name": "Python 3 (ipykernel)",
   "language": "python",
   "name": "python3"
  },
  "language_info": {
   "codemirror_mode": {
    "name": "ipython",
    "version": 3
   },
   "file_extension": ".py",
   "mimetype": "text/x-python",
   "name": "python",
   "nbconvert_exporter": "python",
   "pygments_lexer": "ipython3",
   "version": "3.10.5"
  }
 },
 "nbformat": 4,
 "nbformat_minor": 1
}