{
 "cells": [
  {
   "cell_type": "code",
   "execution_count": 343,
   "outputs": [],
   "source": [
    "import simpy\n",
    "import random\n",
    "from scipy.stats import bernoulli"
   ],
   "metadata": {
    "collapsed": false,
    "pycharm": {
     "name": "#%%\n"
    }
   }
  },
  {
   "cell_type": "code",
   "execution_count": 344,
   "metadata": {
    "collapsed": true
   },
   "outputs": [],
   "source": [
    "CANTIDAD_CARRILES_GRAN_TONELAJE = 1\n",
    "CANTIDAD_CARRILES_NORMALES = 2\n",
    "TIEMPO_LLEGADA = 3 # Llegan cada 3 minutos\n",
    "TIEMPO_ARREGLO = 2*24*60 # 2 dias x 24 horas x 60 minutos\n",
    "\n",
    "TIEMPO_SIMULACION = 30*24*60 # 30 dias x 24 horas x 60 minutos (atencion 24/4)\n",
    "PROBABILIDAD_GRAN_TONELAJE = 0.15 # 15% de que el vehiculo sea de gran tonelaje\n",
    "\n",
    "REVISION_MEDIA = 20 # Media del tiempo de revision (MINUTOS).\n",
    "REVISION_DESVIACION_ESTANDAR = 10 # Desviacion estandar de revision (MINUTOS).\n",
    "\n",
    "PROBABILIDAD_SALIR_SIN_NOTIFICACION = 0.60 # Probabilidad del 60% de salir sin notificaciones."
   ]
  },
  {
   "cell_type": "code",
   "execution_count": 345,
   "outputs": [],
   "source": [
    "class Automovil:\n",
    "    def __init__(self, tipo_automovil: int):\n",
    "        self.tipo_automovil = tipo_automovil\n",
    "        self.estado = None\n",
    "\n",
    "    def __str__(self):\n",
    "        return f'tipo: {self.tipo_automovil}, estado {self.estado}'\n"
   ],
   "metadata": {
    "collapsed": false,
    "pycharm": {
     "name": "#%%\n"
    }
   }
  },
  {
   "cell_type": "code",
   "execution_count": 346,
   "outputs": [],
   "source": [
    "generar_automovil = lambda : bernoulli.rvs(PROBABILIDAD_GRAN_TONELAJE)\n",
    "\n",
    "generar_estacionamiento = lambda : random.randint(3, 5)\n",
    "generar_turno = lambda  : random.randint(1, 3)\n",
    "generar_matricula = lambda  : random.randint(5, 10)\n",
    "\n",
    "generar_paso_revision = lambda : random.normalvariate(mu = REVISION_MEDIA, sigma = REVISION_DESVIACION_ESTANDAR)\n",
    "\n",
    "generar_notificacion = lambda : bernoulli.rvs(PROBABILIDAD_SALIR_SIN_NOTIFICACION)\n",
    "\n",
    "generar_sello = lambda  : random.randint(1, 3)\n",
    "generar_salida = lambda  : random.randint(5, 10)"
   ],
   "metadata": {
    "collapsed": false,
    "pycharm": {
     "name": "#%%\n"
    }
   }
  },
  {
   "cell_type": "code",
   "execution_count": 347,
   "outputs": [],
   "source": [
    "class Emov:\n",
    "    def __init__(self, environment: simpy.Environment):\n",
    "\n",
    "        self.automoviles = []\n",
    "\n",
    "        self.environment: simpy.Environment = environment\n",
    "        self.carril_gran_tonelaje: simpy.Resource = simpy.Resource(environment, CANTIDAD_CARRILES_GRAN_TONELAJE)\n",
    "        self.carril_normal: simpy.Resource = simpy.Resource(environment, CANTIDAD_CARRILES_NORMALES)\n",
    "        self.automovil: Automovil = None\n",
    "        self.environment.process(self.matricular_automovil())\n",
    "\n",
    "    def matricular_automovil(self):\n",
    "        yield self.environment.process(self.estacionar())\n",
    "        yield self.environment.process(self.obtener_turno())\n",
    "        yield self.environment.process(self.pagar_matriculas())\n",
    "\n",
    "        yield self.environment.process(self.pasar_a_revision())\n",
    "\n",
    "    def arrivar(self, tipo_automovil):\n",
    "\n",
    "        self.automovil = Automovil(tipo_automovil=tipo_automovil)\n",
    "\n",
    "        if self.automovil.tipo_automovil == 0: # Auto normal...\n",
    "           return self.carril_normal.request()\n",
    "        else: # Auto gran tonelaje...\n",
    "            return self.carril_gran_tonelaje.request()\n",
    "\n",
    "    def estacionar(self):\n",
    "        yield self.environment.timeout(generar_estacionamiento())\n",
    "\n",
    "    def obtener_turno(self):\n",
    "        yield self.environment.timeout(generar_turno())\n",
    "\n",
    "    def pagar_matriculas(self):\n",
    "        yield self.environment.timeout(generar_matricula())\n",
    "\n",
    "    def pasar_a_revision(self):\n",
    "        carril = self.arrivar(generar_automovil())\n",
    "        if carril.triggered:\n",
    "            tiempo_revision = generar_paso_revision()\n",
    "            while tiempo_revision < 0: # Evita que se genere valores negativos para el timeout.\n",
    "                tiempo_revision = generar_paso_revision()\n",
    "            yield self.environment.timeout(tiempo_revision)\n",
    "            carril.resource.release(carril)\n",
    "            notificacion = generar_notificacion()\n",
    "            if notificacion == 1: # Sin notificacion\n",
    "                yield self.environment.process(self.pegar_sello())\n",
    "                yield self.environment.process(self.salir())\n",
    "                self.automovil.estado = 'listo'\n",
    "            else:\n",
    "                self.automovil.estado = 'renegado'\n",
    "            self.automoviles.append(self.automovil)\n",
    "\n",
    "    def pegar_sello(self):\n",
    "        yield self.environment.timeout(generar_sello())\n",
    "\n",
    "    def salir(self):\n",
    "        yield self.environment.timeout(generar_salida())\n"
   ],
   "metadata": {
    "collapsed": false,
    "pycharm": {
     "name": "#%%\n"
    }
   }
  },
  {
   "cell_type": "markdown",
   "source": [
    "La empresa desea saber si tiene los recursos necesarios para soportar la demanda de los usuarios e\n",
    "incrementar el numero de ticktes por día. En base a ello, diseñe y desarrolle un modelo y/o script que\n",
    "permita realizar la simulación del proceso de pasar cuenca-aire con las siguientes especificaciones\n",
    "• La empresa tiene 3 carriles de revisión vehicular\n",
    "• Un solo carril es habilitado para carros de gran tonelaje, busetas, bus, camiones, solo el 15 %\n",
    "de vehiculos que llegan son de este tipo.\n",
    "• Cada 3 minutos llega un nuevo vehiculo a revision.\n",
    "• Se sigue el siguiente proceso\n",
    "1) Llega el vehiculo al centro, se estaciona (3-5 minutos), saca un turno (1-3 minutos) y pagan\n",
    "la matricula (5 - 10 minutos).\n",
    "2) Si esta vacio pasa directo a la revisión que tiene una media de 20 minutos con una\n",
    "desviacion estandar de 10 minutos.\n",
    "3) Solo el 60 % de vehiculos pasa sin ninguna notificación, el 40% salen realizan el arreglo (2\n",
    "dias) y nuevamente realizan el proceso.\n",
    "4) Despues de pasar la revisión, se les"
   ],
   "metadata": {
    "collapsed": false
   }
  },
  {
   "cell_type": "code",
   "execution_count": 348,
   "outputs": [],
   "source": [
    "datos_por_dia = {}\n",
    "\n",
    "def simular_proceso_matriculacion(global_environment: simpy.Environment):\n",
    "    global emov\n",
    "    emov = Emov(environment=global_environment)\n",
    "    while True:\n",
    "        yield environment.process(emov.matricular_automovil())\n",
    "\n",
    "random.seed(42)\n",
    "emov: Emov = None\n",
    "environment = simpy.Environment()\n",
    "environment.process(simular_proceso_matriculacion(environment))\n",
    "environment.run(until=TIEMPO_SIMULACION)"
   ],
   "metadata": {
    "collapsed": false,
    "pycharm": {
     "name": "#%%\n"
    }
   }
  },
  {
   "cell_type": "markdown",
   "source": [
    "## Análisis y resultados"
   ],
   "metadata": {
    "collapsed": false
   }
  },
  {
   "cell_type": "markdown",
   "source": [
    "### Proceso de desarrollo\n",
    "\n",
    "- Identificar el problema\n",
    "- Identificar los procesos que forman parte del proceso de revision.\n",
    "- Identificar las constantes, tales como, carriles, tiempo empleado en procesos.\n",
    "- Generar funciones anonimas (lambdas) que permitan generar valores aleatoreos en base a lo especificado en el problema.\n",
    "- Modelar el problema con simpy.\n",
    "- Ejecutar el proceso de simulacion.\n",
    "- Generar graficas.\n",
    "\n",
    "### Razones para elegir las diferentes distribuciones de probabilidad para generar numeros pseudoaleatoreos.\n",
    "\n",
    "- Bernoulli: Se utiliza la distribucion de Bernoulli puesto que permite generar valores entre 0 o 1 basado en una determinada probabilidad de exito. En este caso el exito representa diferentes aspectos como la probabilidad de que llegue un vehiculo pesado o un liviano. Tambien se utiliza para determinar la probabilidad de que un determinado vehiculo pase sin ninguna notificacion.\n",
    "\n",
    "- Random.normalvariate: Se utiliza esta funcion para generar numeros pseudoaleatoreos en base a valores como la Media y la Desviacion Estandar. Fue de utilidad para establecer el tiempo de revision.\n",
    "\n",
    "### Resultados:\n",
    "\n",
    "Como resultados se ha podido identificar la simplicidad de Simpy para generar modelos de simulacion en base a problemas de la vida real. Sin embargo, es necesario tener en cuenta que se debe identificar bien el problema, sus variables y la informacion contextual al problema para poder simular correctamente."
   ],
   "metadata": {
    "collapsed": false
   }
  }
 ],
 "metadata": {
  "kernelspec": {
   "display_name": "Python 3",
   "language": "python",
   "name": "python3"
  },
  "language_info": {
   "codemirror_mode": {
    "name": "ipython",
    "version": 2
   },
   "file_extension": ".py",
   "mimetype": "text/x-python",
   "name": "python",
   "nbconvert_exporter": "python",
   "pygments_lexer": "ipython2",
   "version": "2.7.6"
  }
 },
 "nbformat": 4,
 "nbformat_minor": 0
}