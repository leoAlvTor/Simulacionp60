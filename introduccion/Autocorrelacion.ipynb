{
 "cells": [
  {
   "cell_type": "markdown",
   "source": [
    "# Covarianza\n",
    "\n",
    "Dado el conjunto de datos Forest-Fires-Data\n",
    "(AVAC), realice el cálculo de la covarianza\n",
    "empleando Excel o Python. Deberá considerar las\n",
    "variables: viento (wind) y humedad relativa (rH).\n",
    "La descripción del archivo se encuentra en:\n",
    "Forest-Fires-Description"
   ],
   "metadata": {
    "collapsed": false
   }
  },
  {
   "cell_type": "code",
   "execution_count": 30,
   "outputs": [],
   "source": [
    "import pandas as pd\n",
    "import numpy as np\n",
    "import seaborn"
   ],
   "metadata": {
    "collapsed": false,
    "pycharm": {
     "name": "#%%\n"
    }
   }
  },
  {
   "cell_type": "code",
   "execution_count": 31,
   "metadata": {
    "collapsed": true
   },
   "outputs": [
    {
     "name": "stdout",
     "output_type": "stream",
     "text": [
      "Valor de covarianza 2.0292197082152543\n"
     ]
    },
    {
     "data": {
      "text/plain": "<Figure size 432x288 with 2 Axes>",
      "image/png": "[encoded data removed]"
     },
     "metadata": {
      "needs_background": "light"
     },
     "output_type": "display_data"
    }
   ],
   "source": [
    "df = pd.read_csv('forestfires.csv')\n",
    "\n",
    "covarianza=np.cov(df['wind'], df['RH'])[0][1]\n",
    "print(f'Valor de covarianza {covarianza}')\n",
    "\n",
    "data=pd.DataFrame(df['wind'],df['RH'])\n",
    "data = data.reset_index()\n",
    "\n",
    "dataplot = seaborn.heatmap(data.cov(), cmap=\"YlGnBu\", annot=True)"
   ]
  }
 ],
 "metadata": {
  "kernelspec": {
   "display_name": "Python 3",
   "language": "python",
   "name": "python3"
  },
  "language_info": {
   "codemirror_mode": {
    "name": "ipython",
    "version": 2
   },
   "file_extension": ".py",
   "mimetype": "text/x-python",
   "name": "python",
   "nbconvert_exporter": "python",
   "pygments_lexer": "ipython2",
   "version": "2.7.6"
  }
 },
 "nbformat": 4,
 "nbformat_minor": 0
}