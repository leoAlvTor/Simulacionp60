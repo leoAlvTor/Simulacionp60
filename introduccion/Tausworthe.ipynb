{
 "cells": [
  {
   "cell_type": "code",
   "execution_count": 5,
   "outputs": [],
   "source": [
    "r = int(input('Enter the value for r: '))\n",
    "q = int(input('Enter the value for q: '))\n",
    "l = int(input('Enter the length of the sequence: '))"
   ],
   "metadata": {
    "collapsed": false,
    "pycharm": {
     "name": "#%%\n"
    }
   }
  },
  {
   "cell_type": "code",
   "execution_count": 3,
   "outputs": [
    {
     "name": "stdout",
     "output_type": "stream",
     "text": [
      "i: 6, r: 3, q: 5, i-r: 2, i-q: 0, output 0\n",
      "i: 7, r: 3, q: 5, i-r: 3, i-q: 1, output 0\n",
      "i: 8, r: 3, q: 5, i-r: 4, i-q: 2, output 0\n",
      "i: 9, r: 3, q: 5, i-r: 5, i-q: 3, output 1\n",
      "i: 10, r: 3, q: 5, i-r: 6, i-q: 4, output 1\n",
      "i: 11, r: 3, q: 5, i-r: 7, i-q: 5, output 0\n",
      "i: 12, r: 3, q: 5, i-r: 8, i-q: 6, output 1\n",
      "i: 13, r: 3, q: 5, i-r: 9, i-q: 7, output 1\n",
      "i: 14, r: 3, q: 5, i-r: 10, i-q: 8, output 1\n",
      "i: 15, r: 3, q: 5, i-r: 11, i-q: 9, output 0\n",
      "i: 16, r: 3, q: 5, i-r: 12, i-q: 10, output 1\n",
      "i: 17, r: 3, q: 5, i-r: 13, i-q: 11, output 0\n",
      "i: 18, r: 3, q: 5, i-r: 14, i-q: 12, output 1\n",
      "i: 19, r: 3, q: 5, i-r: 15, i-q: 13, output 0\n",
      "i: 20, r: 3, q: 5, i-r: 16, i-q: 14, output 0\n",
      "i: 21, r: 3, q: 5, i-r: 17, i-q: 15, output 0\n",
      "i: 22, r: 3, q: 5, i-r: 18, i-q: 16, output 0\n",
      "i: 23, r: 3, q: 5, i-r: 19, i-q: 17, output 1\n",
      "i: 24, r: 3, q: 5, i-r: 20, i-q: 18, output 0\n",
      "i: 25, r: 3, q: 5, i-r: 21, i-q: 19, output 0\n",
      "i: 26, r: 3, q: 5, i-r: 22, i-q: 20, output 1\n",
      "i: 27, r: 3, q: 5, i-r: 23, i-q: 21, output 0\n",
      "i: 28, r: 3, q: 5, i-r: 24, i-q: 22, output 1\n",
      "i: 29, r: 3, q: 5, i-r: 25, i-q: 23, output 1\n",
      "i: 30, r: 3, q: 5, i-r: 26, i-q: 24, output 0\n",
      "i: 31, r: 3, q: 5, i-r: 27, i-q: 25, output 0\n",
      "i: 32, r: 3, q: 5, i-r: 28, i-q: 26, output 1\n"
     ]
    }
   ],
   "source": [
    "from operator import xor\n",
    "\n",
    "output = [1 for i in range(0, q)]\n",
    "for i in range(q, (2**q)):\n",
    "    i_minus_r = i-r\n",
    "    i_minus_q = i-q\n",
    "    output_xor = xor(output[i_minus_r], output[i_minus_q])\n",
    "    output.append(output_xor)\n",
    "    print(f'i: {i+1}, r: {r}, q: {q}, i-r: {i_minus_r}, i-q: {i_minus_q}, output {output_xor}')"
   ],
   "metadata": {
    "collapsed": false,
    "pycharm": {
     "name": "#%%\n"
    }
   }
  },
  {
   "cell_type": "code",
   "execution_count": 23,
   "outputs": [
    {
     "name": "stdout",
     "output_type": "stream",
     "text": [
      "69.4375\n",
      "62.5\n",
      "68.8125\n",
      "68.8125\n",
      "6.25\n",
      "0.625\n",
      "6.3125\n",
      "62.5625\n"
     ]
    }
   ],
   "source": [
    "import numpy\n",
    "\n",
    "chunks = numpy.array_split(output, len(output)/l)\n",
    "\n",
    "for x in chunks:\n",
    "    x = ''.join([str(y) for y in x])\n",
    "    print((int(x, 10)/pow(l, 2)))"
   ],
   "metadata": {
    "collapsed": false,
    "pycharm": {
     "name": "#%%\n"
    }
   }
  }
 ],
 "metadata": {
  "kernelspec": {
   "display_name": "Python 3",
   "language": "python",
   "name": "python3"
  },
  "language_info": {
   "codemirror_mode": {
    "name": "ipython",
    "version": 2
   },
   "file_extension": ".py",
   "mimetype": "text/x-python",
   "name": "python",
   "nbconvert_exporter": "python",
   "pygments_lexer": "ipython2",
   "version": "2.7.6"
  }
 },
 "nbformat": 4,
 "nbformat_minor": 0
}